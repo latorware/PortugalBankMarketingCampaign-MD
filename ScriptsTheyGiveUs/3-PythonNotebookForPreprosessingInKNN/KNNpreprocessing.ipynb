{
 "cells": [
  {
   "cell_type": "code",
   "execution_count": 35,
   "metadata": {},
   "outputs": [],
   "source": [
    "import pandas as pd \n",
    "import matplotlib.pyplot as  plt\n",
    "import numpy as np\n",
    "\n",
    "# Read datafile with 20 descriptors and label is the last column.\n",
    "df = pd.read_csv(\"foo.csv\") "
   ]
  },
  {
   "cell_type": "code",
   "execution_count": 4,
   "metadata": {},
   "outputs": [
    {
     "data": {
      "text/html": [
       "<div>\n",
       "<style scoped>\n",
       "    .dataframe tbody tr th:only-of-type {\n",
       "        vertical-align: middle;\n",
       "    }\n",
       "\n",
       "    .dataframe tbody tr th {\n",
       "        vertical-align: top;\n",
       "    }\n",
       "\n",
       "    .dataframe thead th {\n",
       "        text-align: right;\n",
       "    }\n",
       "</style>\n",
       "<table border=\"1\" class=\"dataframe\">\n",
       "  <thead>\n",
       "    <tr style=\"text-align: right;\">\n",
       "      <th></th>\n",
       "      <th>1</th>\n",
       "      <th>2</th>\n",
       "      <th>3</th>\n",
       "      <th>4</th>\n",
       "      <th>5</th>\n",
       "      <th>6</th>\n",
       "      <th>7</th>\n",
       "      <th>8</th>\n",
       "      <th>9</th>\n",
       "      <th>10</th>\n",
       "      <th>...</th>\n",
       "      <th>12</th>\n",
       "      <th>13</th>\n",
       "      <th>14</th>\n",
       "      <th>15</th>\n",
       "      <th>16</th>\n",
       "      <th>17</th>\n",
       "      <th>18</th>\n",
       "      <th>19</th>\n",
       "      <th>20</th>\n",
       "      <th>21</th>\n",
       "    </tr>\n",
       "  </thead>\n",
       "  <tbody>\n",
       "    <tr>\n",
       "      <th>0</th>\n",
       "      <td>82.754400</td>\n",
       "      <td>72.339900</td>\n",
       "      <td>-38.930100</td>\n",
       "      <td>-29.09115</td>\n",
       "      <td>-111.52540</td>\n",
       "      <td>9.83847</td>\n",
       "      <td>81.715200</td>\n",
       "      <td>-8.07879</td>\n",
       "      <td>-0.744150</td>\n",
       "      <td>116.61690</td>\n",
       "      <td>...</td>\n",
       "      <td>39.934080</td>\n",
       "      <td>-26.54785</td>\n",
       "      <td>-130.466700</td>\n",
       "      <td>28.7125</td>\n",
       "      <td>152.88160</td>\n",
       "      <td>50.26260</td>\n",
       "      <td>-9.746760</td>\n",
       "      <td>20.64848</td>\n",
       "      <td>27.61830</td>\n",
       "      <td>0.0</td>\n",
       "    </tr>\n",
       "    <tr>\n",
       "      <th>1</th>\n",
       "      <td>-7.748754</td>\n",
       "      <td>13.648140</td>\n",
       "      <td>45.589500</td>\n",
       "      <td>-112.79250</td>\n",
       "      <td>-56.23186</td>\n",
       "      <td>63.45855</td>\n",
       "      <td>-40.922240</td>\n",
       "      <td>15.17708</td>\n",
       "      <td>0.056428</td>\n",
       "      <td>-20.10591</td>\n",
       "      <td>...</td>\n",
       "      <td>84.708000</td>\n",
       "      <td>35.72100</td>\n",
       "      <td>57.601180</td>\n",
       "      <td>-35.1175</td>\n",
       "      <td>-121.11900</td>\n",
       "      <td>-87.21000</td>\n",
       "      <td>0.991656</td>\n",
       "      <td>17.44665</td>\n",
       "      <td>19.92600</td>\n",
       "      <td>0.0</td>\n",
       "    </tr>\n",
       "    <tr>\n",
       "      <th>2</th>\n",
       "      <td>9.442300</td>\n",
       "      <td>4.903912</td>\n",
       "      <td>38.293200</td>\n",
       "      <td>28.19124</td>\n",
       "      <td>78.42520</td>\n",
       "      <td>11.25672</td>\n",
       "      <td>96.377600</td>\n",
       "      <td>-91.80660</td>\n",
       "      <td>1.020300</td>\n",
       "      <td>63.78360</td>\n",
       "      <td>...</td>\n",
       "      <td>-3.649248</td>\n",
       "      <td>59.30400</td>\n",
       "      <td>60.843510</td>\n",
       "      <td>12.5650</td>\n",
       "      <td>111.11740</td>\n",
       "      <td>18.27724</td>\n",
       "      <td>-4.899240</td>\n",
       "      <td>30.34160</td>\n",
       "      <td>-20.25567</td>\n",
       "      <td>0.0</td>\n",
       "    </tr>\n",
       "    <tr>\n",
       "      <th>3</th>\n",
       "      <td>-51.509120</td>\n",
       "      <td>-20.195270</td>\n",
       "      <td>0.610929</td>\n",
       "      <td>-58.29246</td>\n",
       "      <td>-14.65792</td>\n",
       "      <td>-71.01666</td>\n",
       "      <td>-60.376960</td>\n",
       "      <td>-60.50480</td>\n",
       "      <td>1.783100</td>\n",
       "      <td>-49.83456</td>\n",
       "      <td>...</td>\n",
       "      <td>129.765600</td>\n",
       "      <td>-30.21165</td>\n",
       "      <td>159.313700</td>\n",
       "      <td>17.6205</td>\n",
       "      <td>48.78506</td>\n",
       "      <td>170.06520</td>\n",
       "      <td>8.332920</td>\n",
       "      <td>30.19670</td>\n",
       "      <td>19.28745</td>\n",
       "      <td>0.0</td>\n",
       "    </tr>\n",
       "    <tr>\n",
       "      <th>4</th>\n",
       "      <td>31.780740</td>\n",
       "      <td>-23.462430</td>\n",
       "      <td>13.328370</td>\n",
       "      <td>143.97750</td>\n",
       "      <td>19.18080</td>\n",
       "      <td>-141.63900</td>\n",
       "      <td>2.613248</td>\n",
       "      <td>24.90258</td>\n",
       "      <td>-1.405200</td>\n",
       "      <td>42.21627</td>\n",
       "      <td>...</td>\n",
       "      <td>-6.846984</td>\n",
       "      <td>15.37480</td>\n",
       "      <td>7.764666</td>\n",
       "      <td>71.6450</td>\n",
       "      <td>10.87204</td>\n",
       "      <td>95.58520</td>\n",
       "      <td>-10.311360</td>\n",
       "      <td>3.10776</td>\n",
       "      <td>4.55301</td>\n",
       "      <td>0.0</td>\n",
       "    </tr>\n",
       "  </tbody>\n",
       "</table>\n",
       "<p>5 rows × 21 columns</p>\n",
       "</div>"
      ],
      "text/plain": [
       "           1          2          3          4          5          6  \\\n",
       "0  82.754400  72.339900 -38.930100  -29.09115 -111.52540    9.83847   \n",
       "1  -7.748754  13.648140  45.589500 -112.79250  -56.23186   63.45855   \n",
       "2   9.442300   4.903912  38.293200   28.19124   78.42520   11.25672   \n",
       "3 -51.509120 -20.195270   0.610929  -58.29246  -14.65792  -71.01666   \n",
       "4  31.780740 -23.462430  13.328370  143.97750   19.18080 -141.63900   \n",
       "\n",
       "           7         8         9         10 ...           12        13  \\\n",
       "0  81.715200  -8.07879 -0.744150  116.61690 ...    39.934080 -26.54785   \n",
       "1 -40.922240  15.17708  0.056428  -20.10591 ...    84.708000  35.72100   \n",
       "2  96.377600 -91.80660  1.020300   63.78360 ...    -3.649248  59.30400   \n",
       "3 -60.376960 -60.50480  1.783100  -49.83456 ...   129.765600 -30.21165   \n",
       "4   2.613248  24.90258 -1.405200   42.21627 ...    -6.846984  15.37480   \n",
       "\n",
       "           14       15         16         17         18        19        20  \\\n",
       "0 -130.466700  28.7125  152.88160   50.26260  -9.746760  20.64848  27.61830   \n",
       "1   57.601180 -35.1175 -121.11900  -87.21000   0.991656  17.44665  19.92600   \n",
       "2   60.843510  12.5650  111.11740   18.27724  -4.899240  30.34160 -20.25567   \n",
       "3  159.313700  17.6205   48.78506  170.06520   8.332920  30.19670  19.28745   \n",
       "4    7.764666  71.6450   10.87204   95.58520 -10.311360   3.10776   4.55301   \n",
       "\n",
       "    21  \n",
       "0  0.0  \n",
       "1  0.0  \n",
       "2  0.0  \n",
       "3  0.0  \n",
       "4  0.0  \n",
       "\n",
       "[5 rows x 21 columns]"
      ]
     },
     "execution_count": 4,
     "metadata": {},
     "output_type": "execute_result"
    }
   ],
   "source": [
    "df.head()"
   ]
  },
  {
   "cell_type": "code",
   "execution_count": 10,
   "metadata": {},
   "outputs": [
    {
     "name": "stdout",
     "output_type": "stream",
     "text": [
      "(200, 20)\n",
      "(200,)\n"
     ]
    }
   ],
   "source": [
    "# Let's separate Data from labels\n",
    "\n",
    "X = df.drop(['21'],axis=1).as_matrix()         # Data\n",
    "y = df['21'].as_matrix().astype(int)           # Labels\n",
    "\n",
    "print(X.shape)\n",
    "print(y.shape)"
   ]
  },
  {
   "cell_type": "markdown",
   "metadata": {},
   "source": [
    "## 1- Impact of normalization in KNN"
   ]
  },
  {
   "cell_type": "code",
   "execution_count": 14,
   "metadata": {},
   "outputs": [
    {
     "data": {
      "text/plain": [
       "0.61"
      ]
     },
     "execution_count": 14,
     "metadata": {},
     "output_type": "execute_result"
    }
   ],
   "source": [
    "# Notice that only two last features are good to separate data.\n",
    "# Let's find the 10-fold cross-validation with all columns\n",
    "from sklearn.model_selection import StratifiedKFold\n",
    "from sklearn.model_selection import cross_val_score\n",
    "import sklearn.neighbors as nb\n",
    "\n",
    "cv = StratifiedKFold(n_splits=10, random_state=1) \n",
    "\n",
    "cv_scores = cross_val_score(nb.KNeighborsClassifier(), X=X,y=y, cv=cv, scoring='accuracy')  \n",
    "np.mean(cv_scores)"
   ]
  },
  {
   "cell_type": "code",
   "execution_count": 21,
   "metadata": {},
   "outputs": [
    {
     "name": "stdout",
     "output_type": "stream",
     "text": [
      "std: 86.16117106793163 min -228.9276 max 252.0926\n",
      "std: 56.54857424088652 min -151.7558 max 143.5391\n",
      "std: 32.23282330536131 min -76.2729 max 84.84960000000001\n",
      "std: 79.70740274730235 min -303.1182 max 218.0034\n",
      "std: 72.43465317163854 min -195.2416 max 234.3062\n",
      "std: 96.75379839452157 min -330.1686 max 255.8709\n",
      "std: 65.47346962666546 min -172.9152 max 157.9712\n",
      "std: 51.91524190103987 min -197.2766 max 115.0524\n",
      "std: 1.0491788914224565 min -2.6643 max 3.3255\n",
      "std: 64.74453748991836 min -205.5165 max 162.6537\n",
      "std: 51.49849024659317 min -139.44930000000002 max 137.3379\n",
      "std: 67.04445524317472 min -161.28719999999998 max 200.3472\n",
      "std: 33.973330877199956 min -107.76499999999999 max 101.8325\n",
      "std: 92.74305330661575 min -245.4816 max 221.1755\n",
      "std: 47.48940092361951 min -118.56 max 125.49\n",
      "std: 95.00825847614374 min -249.1 max 290.4882\n",
      "std: 72.13770757239998 min -199.8116 max 220.09600000000003\n",
      "std: 12.207308064839465 min -37.2324 max 39.9672\n",
      "std: 32.186240545227015 min -76.567 max 89.884\n",
      "std: 34.28679462644927 min -86.22449999999999 max 95.202\n"
     ]
    }
   ],
   "source": [
    "# Poor score. What could happen? \n",
    "# Remeber that all columns should be in the same range for KNN!!\n",
    "# Could be that each colum is in a different range?\n",
    "\n",
    "for i in range(20):\n",
    "    print('std:',X[:,i].std(),'min',X[:,i].min(),'max',X[:,i].max())"
   ]
  },
  {
   "cell_type": "code",
   "execution_count": 22,
   "metadata": {},
   "outputs": [
    {
     "name": "stdout",
     "output_type": "stream",
     "text": [
      "std: 1.0 min -2.662210068142548 max 2.9205854537608347\n",
      "std: 1.0 min -2.752715987089397 max 2.4692529831997216\n",
      "std: 0.9999999999999999 min -2.390615561348707 max 2.6080933160458586\n",
      "std: 1.0 min -3.872739770528369 max 2.6651924922016073\n",
      "std: 1.0 min -2.65427186838908 max 3.2758704211330225\n",
      "std: 1.0 min -3.3489435912249106 max 2.7080744248572675\n",
      "std: 0.9999999999999999 min -2.610997897236479 max 2.4427498556585268\n",
      "std: 1.0 min -3.6850315748248117 max 2.3311014251014393\n",
      "std: 1.0 min -2.4768950521647692 max 3.232140889150391\n",
      "std: 1.0 min -3.2321412311051767 max 2.454364754937728\n",
      "std: 1.0 min -2.6490091754490757 max 2.725657123983083\n",
      "std: 0.9999999999999998 min -2.4894570248147585 max 2.9044923881281584\n",
      "std: 1.0 min -3.1456117796126986 max 3.023859820261078\n",
      "std: 1.0 min -2.5994333949516713 max 2.432286861844224\n",
      "std: 1.0 min -2.4227503298062416 max 2.7162911247811197\n",
      "std: 1.0 min -2.633270717753657 max 3.046111355495152\n",
      "std: 1.0 min -2.816556283495444 max 3.004360600764647\n",
      "std: 1.0 min -3.0333594026888315 max 3.290688420955179\n",
      "std: 1.0 min -2.3757710853975307 max 2.7957244723426995\n",
      "std: 0.9999999999999999 min -2.5032541969901945 max 2.7881853200781426\n"
     ]
    }
   ],
   "source": [
    "# Let's solve that\n",
    "from sklearn import preprocessing\n",
    "\n",
    "# One way is to standarize all data mean 0, std 1\n",
    "scaler = preprocessing.StandardScaler().fit(X)\n",
    "X2=scaler.transform(X)\n",
    "\n",
    "for i in range(20):\n",
    "    print('std:',X2[:,i].std(),'min',X2[:,i].min(),'max',X2[:,i].max())"
   ]
  },
  {
   "cell_type": "code",
   "execution_count": 23,
   "metadata": {},
   "outputs": [
    {
     "data": {
      "text/plain": [
       "0.8299999999999998"
      ]
     },
     "execution_count": 23,
     "metadata": {},
     "output_type": "execute_result"
    }
   ],
   "source": [
    "# Let's repeat the 10-fold Cross-validation with new data X2\n",
    "cv_scores = cross_val_score(nb.KNeighborsClassifier(), X=X2,y=y, cv=cv, scoring='accuracy')  \n",
    "np.mean(cv_scores)\n"
   ]
  },
  {
   "cell_type": "markdown",
   "metadata": {},
   "source": [
    "## 2- Effect of irrelevant columns"
   ]
  },
  {
   "cell_type": "code",
   "execution_count": 42,
   "metadata": {},
   "outputs": [
    {
     "data": {
      "text/html": [
       "<div>\n",
       "<style scoped>\n",
       "    .dataframe tbody tr th:only-of-type {\n",
       "        vertical-align: middle;\n",
       "    }\n",
       "\n",
       "    .dataframe tbody tr th {\n",
       "        vertical-align: top;\n",
       "    }\n",
       "\n",
       "    .dataframe thead th {\n",
       "        text-align: right;\n",
       "    }\n",
       "</style>\n",
       "<table border=\"1\" class=\"dataframe\">\n",
       "  <thead>\n",
       "    <tr style=\"text-align: right;\">\n",
       "      <th></th>\n",
       "      <th>1</th>\n",
       "      <th>2</th>\n",
       "      <th>3</th>\n",
       "      <th>4</th>\n",
       "      <th>5</th>\n",
       "      <th>6</th>\n",
       "      <th>7</th>\n",
       "      <th>8</th>\n",
       "      <th>9</th>\n",
       "      <th>10</th>\n",
       "      <th>...</th>\n",
       "      <th>12</th>\n",
       "      <th>13</th>\n",
       "      <th>14</th>\n",
       "      <th>15</th>\n",
       "      <th>16</th>\n",
       "      <th>17</th>\n",
       "      <th>18</th>\n",
       "      <th>19</th>\n",
       "      <th>20</th>\n",
       "      <th>21</th>\n",
       "    </tr>\n",
       "  </thead>\n",
       "  <tbody>\n",
       "    <tr>\n",
       "      <th>0</th>\n",
       "      <td>0.955220</td>\n",
       "      <td>1.210173</td>\n",
       "      <td>-1.232082</td>\n",
       "      <td>-0.434828</td>\n",
       "      <td>-1.498524</td>\n",
       "      <td>0.165203</td>\n",
       "      <td>1.278064</td>\n",
       "      <td>-0.040672</td>\n",
       "      <td>-0.646750</td>\n",
       "      <td>1.743312</td>\n",
       "      <td>...</td>\n",
       "      <td>0.511854</td>\n",
       "      <td>-0.754997</td>\n",
       "      <td>-1.359288</td>\n",
       "      <td>0.678415</td>\n",
       "      <td>1.597747</td>\n",
       "      <td>0.650066</td>\n",
       "      <td>-0.781787</td>\n",
       "      <td>0.644634</td>\n",
       "      <td>0.817056</td>\n",
       "      <td>0</td>\n",
       "    </tr>\n",
       "    <tr>\n",
       "      <th>1</th>\n",
       "      <td>-0.095174</td>\n",
       "      <td>0.172273</td>\n",
       "      <td>1.390077</td>\n",
       "      <td>-1.484935</td>\n",
       "      <td>-0.735166</td>\n",
       "      <td>0.719394</td>\n",
       "      <td>-0.595022</td>\n",
       "      <td>0.407286</td>\n",
       "      <td>0.116302</td>\n",
       "      <td>-0.368416</td>\n",
       "      <td>...</td>\n",
       "      <td>1.179679</td>\n",
       "      <td>1.077878</td>\n",
       "      <td>0.668550</td>\n",
       "      <td>-0.665674</td>\n",
       "      <td>-1.286219</td>\n",
       "      <td>-1.255631</td>\n",
       "      <td>0.097884</td>\n",
       "      <td>0.545156</td>\n",
       "      <td>0.592704</td>\n",
       "      <td>0</td>\n",
       "    </tr>\n",
       "    <tr>\n",
       "      <th>2</th>\n",
       "      <td>0.104348</td>\n",
       "      <td>0.017641</td>\n",
       "      <td>1.163715</td>\n",
       "      <td>0.283831</td>\n",
       "      <td>1.123848</td>\n",
       "      <td>0.179862</td>\n",
       "      <td>1.502009</td>\n",
       "      <td>-1.653451</td>\n",
       "      <td>1.034994</td>\n",
       "      <td>0.927285</td>\n",
       "      <td>...</td>\n",
       "      <td>-0.138212</td>\n",
       "      <td>1.772040</td>\n",
       "      <td>0.703511</td>\n",
       "      <td>0.338392</td>\n",
       "      <td>1.158162</td>\n",
       "      <td>0.206673</td>\n",
       "      <td>-0.384687</td>\n",
       "      <td>0.945791</td>\n",
       "      <td>-0.579224</td>\n",
       "      <td>0</td>\n",
       "    </tr>\n",
       "    <tr>\n",
       "      <th>3</th>\n",
       "      <td>-0.603063</td>\n",
       "      <td>-0.426211</td>\n",
       "      <td>-0.005350</td>\n",
       "      <td>-0.801184</td>\n",
       "      <td>-0.161215</td>\n",
       "      <td>-0.670476</td>\n",
       "      <td>-0.892161</td>\n",
       "      <td>-1.050510</td>\n",
       "      <td>1.762039</td>\n",
       "      <td>-0.827584</td>\n",
       "      <td>...</td>\n",
       "      <td>1.851734</td>\n",
       "      <td>-0.862840</td>\n",
       "      <td>1.765263</td>\n",
       "      <td>0.444847</td>\n",
       "      <td>0.502089</td>\n",
       "      <td>2.310815</td>\n",
       "      <td>0.699267</td>\n",
       "      <td>0.941289</td>\n",
       "      <td>0.574081</td>\n",
       "      <td>0</td>\n",
       "    </tr>\n",
       "    <tr>\n",
       "      <th>4</th>\n",
       "      <td>0.363612</td>\n",
       "      <td>-0.483987</td>\n",
       "      <td>0.389199</td>\n",
       "      <td>1.736472</td>\n",
       "      <td>0.305947</td>\n",
       "      <td>-1.400394</td>\n",
       "      <td>0.069912</td>\n",
       "      <td>0.594621</td>\n",
       "      <td>-1.276814</td>\n",
       "      <td>0.594170</td>\n",
       "      <td>...</td>\n",
       "      <td>-0.185908</td>\n",
       "      <td>0.478990</td>\n",
       "      <td>0.131189</td>\n",
       "      <td>1.582459</td>\n",
       "      <td>0.103039</td>\n",
       "      <td>1.278345</td>\n",
       "      <td>-0.828038</td>\n",
       "      <td>0.099658</td>\n",
       "      <td>0.144340</td>\n",
       "      <td>0</td>\n",
       "    </tr>\n",
       "  </tbody>\n",
       "</table>\n",
       "<p>5 rows × 21 columns</p>\n",
       "</div>"
      ],
      "text/plain": [
       "          1         2         3         4         5         6         7  \\\n",
       "0  0.955220  1.210173 -1.232082 -0.434828 -1.498524  0.165203  1.278064   \n",
       "1 -0.095174  0.172273  1.390077 -1.484935 -0.735166  0.719394 -0.595022   \n",
       "2  0.104348  0.017641  1.163715  0.283831  1.123848  0.179862  1.502009   \n",
       "3 -0.603063 -0.426211 -0.005350 -0.801184 -0.161215 -0.670476 -0.892161   \n",
       "4  0.363612 -0.483987  0.389199  1.736472  0.305947 -1.400394  0.069912   \n",
       "\n",
       "          8         9        10 ...        12        13        14        15  \\\n",
       "0 -0.040672 -0.646750  1.743312 ...  0.511854 -0.754997 -1.359288  0.678415   \n",
       "1  0.407286  0.116302 -0.368416 ...  1.179679  1.077878  0.668550 -0.665674   \n",
       "2 -1.653451  1.034994  0.927285 ... -0.138212  1.772040  0.703511  0.338392   \n",
       "3 -1.050510  1.762039 -0.827584 ...  1.851734 -0.862840  1.765263  0.444847   \n",
       "4  0.594621 -1.276814  0.594170 ... -0.185908  0.478990  0.131189  1.582459   \n",
       "\n",
       "         16        17        18        19        20  21  \n",
       "0  1.597747  0.650066 -0.781787  0.644634  0.817056   0  \n",
       "1 -1.286219 -1.255631  0.097884  0.545156  0.592704   0  \n",
       "2  1.158162  0.206673 -0.384687  0.945791 -0.579224   0  \n",
       "3  0.502089  2.310815  0.699267  0.941289  0.574081   0  \n",
       "4  0.103039  1.278345 -0.828038  0.099658  0.144340   0  \n",
       "\n",
       "[5 rows x 21 columns]"
      ]
     },
     "execution_count": 42,
     "metadata": {},
     "output_type": "execute_result"
    }
   ],
   "source": [
    "# Let's build a pandas dataframe to work with columns\n",
    "\n",
    "columns = [str(i+1) for i in range(20)]\n",
    "df=pd.DataFrame(data=X2, columns=columns)\n",
    "df['21']=y\n",
    "df.head()"
   ]
  },
  {
   "cell_type": "code",
   "execution_count": 43,
   "metadata": {},
   "outputs": [
    {
     "data": {
      "image/png": "[encoded data removed]",
      "text/plain": [
       "<Figure size 432x288 with 1 Axes>"
      ]
     },
     "metadata": {},
     "output_type": "display_data"
    }
   ],
   "source": [
    "# Let's plot a histogram of values in column 1 grouped by the label\n",
    "\n",
    "df[df['21']==0]['1'].plot.hist(bins=10)\n",
    "df[df['21']==1]['1'].plot.hist(bins=10)\n",
    "plt.show()"
   ]
  },
  {
   "cell_type": "code",
   "execution_count": 44,
   "metadata": {},
   "outputs": [
    {
     "data": {
      "image/png": "[encoded data removed]",
      "text/plain": [
       "<Figure size 720x720 with 20 Axes>"
      ]
     },
     "metadata": {},
     "output_type": "display_data"
    }
   ],
   "source": [
    "# It seems that feature 1 does not help to separate data according to labels.\n",
    "# Let's see the same for all the features\n",
    "\n",
    "plt.subplots(figsize=(10, 10))\n",
    "plt.subplots_adjust(hspace=0.27,wspace=0.5)\n",
    "for i in range(20):\n",
    "    plt.subplot(5,4,0+i+1)\n",
    "    df[df['21']==0][str(i+1)].plot.hist(bins=10)\n",
    "    df[df['21']==1][str(i+1)].plot.hist(bins=10)\n",
    "plt.show()"
   ]
  },
  {
   "cell_type": "code",
   "execution_count": 46,
   "metadata": {},
   "outputs": [
    {
     "data": {
      "text/plain": [
       "0.8299999999999998"
      ]
     },
     "execution_count": 46,
     "metadata": {},
     "output_type": "execute_result"
    }
   ],
   "source": [
    "# Let's repeat the 10-fold Cross-validation with new data X2\n",
    "cv_scores = cross_val_score(nb.KNeighborsClassifier(), X=X2,y=y, cv=cv, scoring='accuracy')  \n",
    "np.mean(cv_scores)\n"
   ]
  },
  {
   "cell_type": "code",
   "execution_count": 51,
   "metadata": {},
   "outputs": [
    {
     "data": {
      "text/plain": [
       "0.9099999999999999"
      ]
     },
     "execution_count": 51,
     "metadata": {},
     "output_type": "execute_result"
    }
   ],
   "source": [
    "# Let's find the 10-fold cross-validation with only 2 last columns\n",
    "\n",
    "cv_scores = cross_val_score(nb.KNeighborsClassifier(), X=X2[:,18:],y=y, cv=cv, scoring='accuracy')  \n",
    "np.mean(cv_scores)"
   ]
  },
  {
   "cell_type": "code",
   "execution_count": 52,
   "metadata": {},
   "outputs": [
    {
     "data": {
      "text/plain": [
       "0.9049999999999999"
      ]
     },
     "execution_count": 52,
     "metadata": {},
     "output_type": "execute_result"
    }
   ],
   "source": [
    "# Improvement in accuracy\n",
    "# Unfortunately, we don't know before hand the relevant feature.\n",
    "\n",
    "# Sklearn to the rescue!\n",
    "\n",
    "from sklearn.feature_selection import mutual_info_classif\n",
    "from sklearn.feature_selection import SelectKBest\n",
    "\n",
    "# Select k best features following a given measure. Fit that on whole data set and return only relevant columns \n",
    "X_new = SelectKBest(mutual_info_classif, k=2).fit_transform(X, y)\n",
    "\n",
    "# Let's do now the 10-fold cross-validation again\n",
    "cv_scores = cross_val_score(nb.KNeighborsClassifier(), X=X_new,y=y, cv=cv, scoring='accuracy')  \n",
    "np.mean(cv_scores)"
   ]
  },
  {
   "cell_type": "code",
   "execution_count": 50,
   "metadata": {},
   "outputs": [
    {
     "data": {
      "image/png": "[encoded data removed]",
      "text/plain": [
       "<Figure size 432x288 with 1 Axes>"
      ]
     },
     "metadata": {},
     "output_type": "display_data"
    }
   ],
   "source": [
    "original = np.zeros(20)\n",
    "for i in range(20):\n",
    "    X_new = SelectKBest(mutual_info_classif, k=i+1).fit_transform(X2, y)\n",
    "    cv_scores = cross_val_score(nb.KNeighborsClassifier(), X=X_new,y=y, cv=cv, scoring='accuracy')  \n",
    "    original[i]=np.mean(cv_scores)\n",
    "\n",
    "plt.xticks(np.arange(0, 20, step=1))\n",
    "plt.plot(range(1,21),original)\n",
    "plt.show()"
   ]
  },
  {
   "cell_type": "markdown",
   "metadata": {},
   "source": [
    "## 3- Let's find best parameters"
   ]
  },
  {
   "cell_type": "code",
   "execution_count": 62,
   "metadata": {},
   "outputs": [
    {
     "data": {
      "image/png": "[encoded data removed]",
      "text/plain": [
       "<Figure size 432x288 with 1 Axes>"
      ]
     },
     "metadata": {},
     "output_type": "display_data"
    }
   ],
   "source": [
    "X_new = SelectKBest(mutual_info_classif, k=2).fit_transform(X, y)\n",
    "\n",
    "lr = []\n",
    "for ki in range(1,30,2):\n",
    "    cv_scores = cross_val_score(nb.KNeighborsClassifier(n_neighbors=ki), X=X_new, y=y, cv=10)\n",
    "    lr.append(np.mean(cv_scores))\n",
    "plt.plot(range(1,30,2),lr,'b',label='No weighting')\n",
    "\n",
    "lr = []\n",
    "for ki in range(1,30,2):\n",
    "    cv_scores = cross_val_score(nb.KNeighborsClassifier(n_neighbors=ki,weights='distance'), X=X_new, y=y, cv=10)\n",
    "    lr.append(np.mean(cv_scores))\n",
    "plt.plot(range(1,30,2),lr,'r',label='Weighting')\n",
    "plt.xlabel('k')\n",
    "plt.ylabel('Accuracy')\n",
    "plt.legend(loc='upper right')\n",
    "plt.grid()\n",
    "plt.tight_layout()\n",
    "\n",
    "plt.show()"
   ]
  },
  {
   "cell_type": "code",
   "execution_count": 63,
   "metadata": {},
   "outputs": [
    {
     "name": "stdout",
     "output_type": "stream",
     "text": [
      "Best Params= {'n_neighbors': 19, 'weights': 'uniform'} Accuracy= 0.92\n"
     ]
    }
   ],
   "source": [
    "from sklearn.model_selection import GridSearchCV\n",
    "params = {'n_neighbors':list(range(1,30,2)), 'weights':('distance','uniform')}\n",
    "knc = nb.KNeighborsClassifier()\n",
    "clf = GridSearchCV(knc, param_grid=params,cv=cv,n_jobs=-1)  # If cv is integer, by default is Stratifyed \n",
    "clf.fit(X_new, y)\n",
    "print(\"Best Params=\",clf.best_params_, \"Accuracy=\", clf.best_score_)"
   ]
  },
  {
   "cell_type": "markdown",
   "metadata": {},
   "source": [
    "## What about PCA for dimensionality reduction?"
   ]
  },
  {
   "cell_type": "code",
   "execution_count": 64,
   "metadata": {},
   "outputs": [],
   "source": [
    "from sklearn.decomposition import PCA\n",
    "\n",
    "pca = PCA(n_components=2)\n",
    "pca.fit(X2)\n",
    "X_pca = pca.transform(X2)"
   ]
  },
  {
   "cell_type": "code",
   "execution_count": 65,
   "metadata": {},
   "outputs": [
    {
     "name": "stdout",
     "output_type": "stream",
     "text": [
      "Best Params= {'n_neighbors': 25, 'weights': 'uniform'} Accuracy= 0.835\n"
     ]
    }
   ],
   "source": [
    "params = {'n_neighbors':list(range(1,30,2)), 'weights':('distance','uniform')}\n",
    "knc = nb.KNeighborsClassifier()\n",
    "clf = GridSearchCV(knc, param_grid=params,cv=cv,n_jobs=-1)  # If cv is integer, by default is Stratifyed \n",
    "clf.fit(X_pca, y)\n",
    "print(\"Best Params=\",clf.best_params_, \"Accuracy=\", clf.best_score_)"
   ]
  },
  {
   "cell_type": "code",
   "execution_count": 67,
   "metadata": {},
   "outputs": [
    {
     "name": "stdout",
     "output_type": "stream",
     "text": [
      "Best Params= {'n_neighbors': 25, 'weights': 'uniform'} Accuracy= 0.925\n"
     ]
    }
   ],
   "source": [
    "# Not very good because does not consider labels in the reduction. Let's try LDA that is similar to PCA\n",
    "# but takes into account labels\n",
    "\n",
    "from sklearn.discriminant_analysis import LinearDiscriminantAnalysis\n",
    "\n",
    "lda = LinearDiscriminantAnalysis(n_components=2)\n",
    "X_lda = lda.fit(X2, y).transform(X2)\n",
    "\n",
    "params = {'n_neighbors':list(range(1,30,2)), 'weights':('distance','uniform')}\n",
    "knc = nb.KNeighborsClassifier()\n",
    "clf = GridSearchCV(knc, param_grid=params,cv=cv,n_jobs=-1)  # If cv is integer, by default is Stratifyed \n",
    "clf.fit(X_lda, y)\n",
    "print(\"Best Params=\",clf.best_params_, \"Accuracy=\", clf.best_score_)"
   ]
  }
 ],
 "metadata": {
  "kernelspec": {
   "display_name": "Python 3",
   "language": "python",
   "name": "python3"
  },
  "language_info": {
   "codemirror_mode": {
    "name": "ipython",
    "version": 3
   },
   "file_extension": ".py",
   "mimetype": "text/x-python",
   "name": "python",
   "nbconvert_exporter": "python",
   "pygments_lexer": "ipython3",
   "version": "3.6.4"
  }
 },
 "nbformat": 4,
 "nbformat_minor": 2
}
