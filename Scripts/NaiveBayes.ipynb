{
 "cells": [
  {
   "attachments": {},
   "cell_type": "markdown",
   "metadata": {},
   "source": [
    "# Naive Bayes"
   ]
  },
  {
   "attachments": {},
   "cell_type": "markdown",
   "metadata": {},
   "source": [
    "###  Needed imports and libraries\n",
    "Next are all the needed imports to run the script: "
   ]
  },
  {
   "cell_type": "code",
   "execution_count": 34,
   "metadata": {},
   "outputs": [],
   "source": [
    "import matplotlib.pyplot as  plt\n",
    "import pandas as pd\n",
    "import numpy as np\n",
    "from sklearn import preprocessing\n",
    "from sklearn import metrics\n",
    "from sklearn.model_selection import cross_val_predict\n",
    "from sklearn.model_selection import cross_val_score\n",
    "from sklearn.model_selection import StratifiedKFold \n",
    "from sklearn.naive_bayes import GaussianNB\n",
    "from sklearn.metrics import confusion_matrix\n",
    "from sklearn.metrics import accuracy_score\n",
    "from sklearn.metrics import classification_report\n",
    "import seaborn as sns"
   ]
  },
  {
   "attachments": {},
   "cell_type": "markdown",
   "metadata": {},
   "source": [
    "### Preparing data\n",
    "All the preprossecing of the data is done on other scripts. Therefore, we only have to open the csvs with the datasets already preprocessed: \n",
    "\n",
    "Moreover, we have also already splited the train and test data into different datasets, so we don't have to use the function train_test_split(). "
   ]
  },
  {
   "cell_type": "code",
   "execution_count": 35,
   "metadata": {},
   "outputs": [
    {
     "name": "stdout",
     "output_type": "stream",
     "text": [
      "<class 'pandas.core.frame.DataFrame'>\n",
      "RangeIndex: 6667 entries, 0 to 6666\n",
      "Data columns (total 42 columns):\n",
      " #   Column                         Non-Null Count  Dtype  \n",
      "---  ------                         --------------  -----  \n",
      " 0   Unnamed: 0                     6667 non-null   int64  \n",
      " 1   age                            6667 non-null   float64\n",
      " 2   campaign                       6667 non-null   float64\n",
      " 3   cons.conf.idx                  6667 non-null   float64\n",
      " 4   cons.price.idx                 6667 non-null   float64\n",
      " 5   contact                        6667 non-null   float64\n",
      " 6   day_of_week                    6667 non-null   float64\n",
      " 7   default_unknown                6667 non-null   float64\n",
      " 8   default_yes                    6667 non-null   float64\n",
      " 9   duration                       6667 non-null   float64\n",
      " 10  education_basic.6y             6667 non-null   float64\n",
      " 11  education_basic.9y             6667 non-null   float64\n",
      " 12  education_high.school          6667 non-null   float64\n",
      " 13  education_illiterate           6667 non-null   float64\n",
      " 14  education_professional.course  6667 non-null   float64\n",
      " 15  education_university.degree    6667 non-null   float64\n",
      " 16  education_unknown              6667 non-null   float64\n",
      " 17  emp.var.rate                   6667 non-null   float64\n",
      " 18  euribor3m                      6667 non-null   float64\n",
      " 19  housing                        6667 non-null   float64\n",
      " 20  job_blue-collar                6667 non-null   float64\n",
      " 21  job_entrepreneur               6667 non-null   float64\n",
      " 22  job_housemaid                  6667 non-null   float64\n",
      " 23  job_management                 6667 non-null   float64\n",
      " 24  job_retired                    6667 non-null   float64\n",
      " 25  job_self-employed              6667 non-null   float64\n",
      " 26  job_services                   6667 non-null   float64\n",
      " 27  job_student                    6667 non-null   float64\n",
      " 28  job_technician                 6667 non-null   float64\n",
      " 29  job_unemployed                 6667 non-null   float64\n",
      " 30  job_unknown                    6667 non-null   float64\n",
      " 31  loan                           6667 non-null   float64\n",
      " 32  marital_married                6667 non-null   float64\n",
      " 33  marital_single                 6667 non-null   float64\n",
      " 34  marital_unknown                6667 non-null   float64\n",
      " 35  month                          6667 non-null   float64\n",
      " 36  nr.employed                    6667 non-null   float64\n",
      " 37  pdays                          6667 non-null   float64\n",
      " 38  poutcome_nonexistent           6667 non-null   float64\n",
      " 39  poutcome_success               6667 non-null   float64\n",
      " 40  previous                       6667 non-null   float64\n",
      " 41  y                              6667 non-null   float64\n",
      "dtypes: float64(41), int64(1)\n",
      "memory usage: 2.1 MB\n",
      "<class 'pandas.core.frame.DataFrame'>\n",
      "RangeIndex: 3333 entries, 0 to 3332\n",
      "Data columns (total 42 columns):\n",
      " #   Column                         Non-Null Count  Dtype  \n",
      "---  ------                         --------------  -----  \n",
      " 0   Unnamed: 0                     3333 non-null   int64  \n",
      " 1   age                            3333 non-null   float64\n",
      " 2   campaign                       3333 non-null   float64\n",
      " 3   cons.conf.idx                  3333 non-null   float64\n",
      " 4   cons.price.idx                 3333 non-null   float64\n",
      " 5   contact                        3333 non-null   float64\n",
      " 6   day_of_week                    3333 non-null   float64\n",
      " 7   default_unknown                3333 non-null   float64\n",
      " 8   default_yes                    3333 non-null   float64\n",
      " 9   duration                       3333 non-null   float64\n",
      " 10  education_basic.6y             3333 non-null   float64\n",
      " 11  education_basic.9y             3333 non-null   float64\n",
      " 12  education_high.school          3333 non-null   float64\n",
      " 13  education_illiterate           3333 non-null   float64\n",
      " 14  education_professional.course  3333 non-null   float64\n",
      " 15  education_university.degree    3333 non-null   float64\n",
      " 16  education_unknown              3333 non-null   float64\n",
      " 17  emp.var.rate                   3333 non-null   float64\n",
      " 18  euribor3m                      3333 non-null   float64\n",
      " 19  housing                        3333 non-null   float64\n",
      " 20  job_blue-collar                3333 non-null   float64\n",
      " 21  job_entrepreneur               3333 non-null   float64\n",
      " 22  job_housemaid                  3333 non-null   float64\n",
      " 23  job_management                 3333 non-null   float64\n",
      " 24  job_retired                    3333 non-null   float64\n",
      " 25  job_self-employed              3333 non-null   float64\n",
      " 26  job_services                   3333 non-null   float64\n",
      " 27  job_student                    3333 non-null   float64\n",
      " 28  job_technician                 3333 non-null   float64\n",
      " 29  job_unemployed                 3333 non-null   float64\n",
      " 30  job_unknown                    3333 non-null   float64\n",
      " 31  loan                           3333 non-null   float64\n",
      " 32  marital_married                3333 non-null   float64\n",
      " 33  marital_single                 3333 non-null   float64\n",
      " 34  marital_unknown                3333 non-null   float64\n",
      " 35  month                          3333 non-null   float64\n",
      " 36  nr.employed                    3333 non-null   float64\n",
      " 37  pdays                          3333 non-null   float64\n",
      " 38  poutcome_nonexistent           3333 non-null   float64\n",
      " 39  poutcome_success               3333 non-null   float64\n",
      " 40  previous                       3333 non-null   float64\n",
      " 41  y                              3333 non-null   float64\n",
      "dtypes: float64(41), int64(1)\n",
      "memory usage: 1.1 MB\n"
     ]
    }
   ],
   "source": [
    "trainingDataset = pd.read_csv(r'../Datasets/training-dataset-reduced.csv')\n",
    "testingDataset = pd.read_csv(r'../Datasets/testing-dataset-reduced.csv')\n",
    "trainingDataset.info()\n",
    "testingDataset.info()\n",
    "\n",
    "X_trainDataset = trainingDataset\n",
    "X_trainDataset =  X_trainDataset.drop('Unnamed: 0',axis=1) #non useful column\n",
    "X_trainDataset =  X_trainDataset.drop('y',axis=1) #remove the column we want to predict\n",
    "\n",
    "Y_trainDataset = trainingDataset\n",
    "Y_trainDataset = Y_trainDataset['y'] #Only the column we want to predict\n",
    "\n",
    "X_testDataset = testingDataset\n",
    "X_testDataset =  X_testDataset.drop('Unnamed: 0',axis=1) #non useful column\n",
    "X_testDataset =  X_testDataset.drop('y',axis=1) #remove the column we want to predict\n",
    "\n",
    "Y_testDataset = testingDataset\n",
    "Y_testDataset = Y_testDataset['y'] #Only the column we want to predict"
   ]
  },
  {
   "attachments": {},
   "cell_type": "markdown",
   "metadata": {},
   "source": [
    "### Prediction by cross-validation"
   ]
  },
  {
   "cell_type": "code",
   "execution_count": 36,
   "metadata": {},
   "outputs": [
    {
     "name": "stdout",
     "output_type": "stream",
     "text": [
      "Mean of the accuracy of all the splits: 0.7132177154665911\n"
     ]
    },
    {
     "data": {
      "image/png": "[encoded data removed]",
      "text/plain": [
       "<Figure size 400x400 with 1 Axes>"
      ]
     },
     "metadata": {},
     "output_type": "display_data"
    },
    {
     "name": "stdout",
     "output_type": "stream",
     "text": [
      "0.7132143392830359\n",
      "              precision    recall  f1-score   support\n",
      "\n",
      "         0.0       0.78      0.65      0.71      3571\n",
      "         1.0       0.66      0.78      0.72      3096\n",
      "\n",
      "    accuracy                           0.71      6667\n",
      "   macro avg       0.72      0.72      0.71      6667\n",
      "weighted avg       0.72      0.71      0.71      6667\n",
      "\n"
     ]
    }
   ],
   "source": [
    "cv = StratifiedKFold(n_splits=10) #We specigy the number of splits of cross-validation\n",
    "gnb = GaussianNB() #We work with the gausian naive bayes\n",
    "\n",
    "#X_trainDataset = pd.get_dummies(X_trainDataset)\n",
    "cv_scores = cross_val_score(gnb,X=X_trainDataset,y=Y_trainDataset,cv=cv) #to get the mean of the perfomance of the predtictions of all the splits\n",
    "predicted = cross_val_predict(GaussianNB(), X=X_trainDataset, y=Y_trainDataset,  cv=cv) #to get the perfomance of the predictions depending on the value of the predicted variable\n",
    "\n",
    "#mean of the accuracy of all the splits\n",
    "print(\"Mean of the accuracy of all the splits: {}\".format(np.mean(cv_scores)))\n",
    "\n",
    "#print the confusion matrix\n",
    "confmat = confusion_matrix(Y_trainDataset, predicted)\n",
    "fig, ax = plt.subplots(figsize=(4, 4))\n",
    "ax.matshow(confmat, cmap=plt.cm.Blues, alpha=0.3)\n",
    "for i in range(confmat.shape[0]):\n",
    "    for j in range(confmat.shape[1]):\n",
    "        ax.text(x=j, y=i, s=confmat[i, j], va='center', ha='center',fontsize=10)\n",
    "\n",
    "plt.xlabel('Predicted label')\n",
    "plt.ylabel('True label')\n",
    "plt.tight_layout()\n",
    "plt.show()\n",
    "\n",
    "#print the accuracy score\n",
    "print(accuracy_score(Y_trainDataset, predicted))\n",
    "\n",
    "#print the classification report\n",
    "print(classification_report(Y_trainDataset, predicted))\n",
    "\n",
    "\n"
   ]
  },
  {
   "attachments": {},
   "cell_type": "markdown",
   "metadata": {},
   "source": [
    "### Prediction by fit"
   ]
  },
  {
   "cell_type": "code",
   "execution_count": 37,
   "metadata": {},
   "outputs": [
    {
     "data": {
      "image/png": "[encoded data removed]",
      "text/plain": [
       "<Figure size 400x400 with 1 Axes>"
      ]
     },
     "metadata": {},
     "output_type": "display_data"
    },
    {
     "name": "stdout",
     "output_type": "stream",
     "text": [
      "0.6585658565856586\n",
      "              precision    recall  f1-score   support\n",
      "\n",
      "         0.0       0.97      0.64      0.77      2981\n",
      "         1.0       0.21      0.82      0.34       352\n",
      "\n",
      "    accuracy                           0.66      3333\n",
      "   macro avg       0.59      0.73      0.55      3333\n",
      "weighted avg       0.89      0.66      0.72      3333\n",
      "\n"
     ]
    }
   ],
   "source": [
    "clf = GaussianNB() #We work with the gausian naive bayes\n",
    "clf.fit(X_trainDataset,Y_trainDataset)#train by fit\n",
    "y_predicted = clf.predict(X_testDataset)\n",
    "\n",
    "#print the confusion matrix\n",
    "confmat = confusion_matrix(Y_testDataset, y_predicted)\n",
    "fig, ax = plt.subplots(figsize=(4, 4))\n",
    "ax.matshow(confmat, cmap=plt.cm.Blues, alpha=0.3)\n",
    "for i in range(confmat.shape[0]):\n",
    "    for j in range(confmat.shape[1]):\n",
    "        ax.text(x=j, y=i, s=confmat[i, j], va='center', ha='center',fontsize=10)\n",
    "\n",
    "plt.xlabel('Predicted label')\n",
    "plt.ylabel('True label')\n",
    "plt.tight_layout()\n",
    "plt.show()\n",
    "\n",
    "#print the accuracy score\n",
    "print(accuracy_score(Y_testDataset, y_predicted))\n",
    "\n",
    "#print the classification report\n",
    "print(classification_report(Y_testDataset, y_predicted))"
   ]
  }
 ],
 "metadata": {
  "kernelspec": {
   "display_name": "Python 3",
   "language": "python",
   "name": "python3"
  },
  "language_info": {
   "codemirror_mode": {
    "name": "ipython",
    "version": 3
   },
   "file_extension": ".py",
   "mimetype": "text/x-python",
   "name": "python",
   "nbconvert_exporter": "python",
   "pygments_lexer": "ipython3",
   "version": "3.10.5"
  },
  "orig_nbformat": 4,
  "vscode": {
   "interpreter": {
    "hash": "369f2c481f4da34e4445cda3fffd2e751bd1c4d706f27375911949ba6bb62e1c"
   }
  }
 },
 "nbformat": 4,
 "nbformat_minor": 2
}
