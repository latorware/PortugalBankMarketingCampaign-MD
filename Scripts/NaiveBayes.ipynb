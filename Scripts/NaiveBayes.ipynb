{
 "cells": [
  {
   "attachments": {},
   "cell_type": "markdown",
   "metadata": {},
   "source": [
    "# Naive Bayes"
   ]
  },
  {
   "attachments": {},
   "cell_type": "markdown",
   "metadata": {},
   "source": [
    "###  Needed imports and libraries\n",
    "Next are all the needed imports to run the script: "
   ]
  },
  {
   "cell_type": "code",
   "execution_count": 15,
   "metadata": {},
   "outputs": [],
   "source": [
    "import matplotlib.pyplot as  plt\n",
    "import pandas as pd\n",
    "import numpy as np\n",
    "from sklearn import preprocessing\n",
    "from sklearn import metrics\n",
    "from sklearn.model_selection import cross_val_predict\n",
    "from sklearn.model_selection import cross_val_score\n",
    "from sklearn.model_selection import StratifiedKFold \n",
    "from sklearn.naive_bayes import GaussianNB\n",
    "from sklearn.metrics import confusion_matrix\n",
    "from sklearn.metrics import accuracy_score\n",
    "import seaborn as sns"
   ]
  },
  {
   "attachments": {},
   "cell_type": "markdown",
   "metadata": {},
   "source": [
    "### Preparing data\n",
    "All the preprossecing of the data is done on other scripts. Therefore, we only have to open the csvs with the datasets already preprocessed: \n",
    "\n",
    "Moreover, we have also already splited the train and test data into different datasets, so we don't have to use the function train_test_split(). "
   ]
  },
  {
   "cell_type": "code",
   "execution_count": 16,
   "metadata": {},
   "outputs": [
    {
     "name": "stdout",
     "output_type": "stream",
     "text": [
      "<class 'pandas.core.frame.DataFrame'>\n",
      "RangeIndex: 6667 entries, 0 to 6666\n",
      "Data columns (total 23 columns):\n",
      " #   Column          Non-Null Count  Dtype  \n",
      "---  ------          --------------  -----  \n",
      " 0   Unnamed: 0.1    6667 non-null   int64  \n",
      " 1   Unnamed: 0      6667 non-null   int64  \n",
      " 2   age             6667 non-null   int64  \n",
      " 3   job             6667 non-null   object \n",
      " 4   marital         6667 non-null   object \n",
      " 5   education       6667 non-null   object \n",
      " 6   default         6667 non-null   object \n",
      " 7   housing         6667 non-null   object \n",
      " 8   loan            6667 non-null   object \n",
      " 9   contact         6667 non-null   object \n",
      " 10  month           6667 non-null   object \n",
      " 11  day_of_week     6667 non-null   object \n",
      " 12  duration        6667 non-null   int64  \n",
      " 13  campaign        6667 non-null   int64  \n",
      " 14  pdays           6667 non-null   int64  \n",
      " 15  previous        6667 non-null   int64  \n",
      " 16  poutcome        6667 non-null   object \n",
      " 17  emp.var.rate    6667 non-null   float64\n",
      " 18  cons.price.idx  6667 non-null   float64\n",
      " 19  cons.conf.idx   6667 non-null   float64\n",
      " 20  euribor3m       6667 non-null   float64\n",
      " 21  nr.employed     6667 non-null   float64\n",
      " 22  y               6667 non-null   object \n",
      "dtypes: float64(5), int64(7), object(11)\n",
      "memory usage: 1.2+ MB\n",
      "<class 'pandas.core.frame.DataFrame'>\n",
      "RangeIndex: 3333 entries, 0 to 3332\n",
      "Data columns (total 23 columns):\n",
      " #   Column          Non-Null Count  Dtype  \n",
      "---  ------          --------------  -----  \n",
      " 0   Unnamed: 0.1    3333 non-null   int64  \n",
      " 1   Unnamed: 0      3333 non-null   int64  \n",
      " 2   age             3333 non-null   int64  \n",
      " 3   job             3333 non-null   object \n",
      " 4   marital         3333 non-null   object \n",
      " 5   education       3333 non-null   object \n",
      " 6   default         3333 non-null   object \n",
      " 7   housing         3333 non-null   object \n",
      " 8   loan            3333 non-null   object \n",
      " 9   contact         3333 non-null   object \n",
      " 10  month           3333 non-null   object \n",
      " 11  day_of_week     3333 non-null   object \n",
      " 12  duration        3333 non-null   int64  \n",
      " 13  campaign        3333 non-null   int64  \n",
      " 14  pdays           3333 non-null   int64  \n",
      " 15  previous        3333 non-null   int64  \n",
      " 16  poutcome        3333 non-null   object \n",
      " 17  emp.var.rate    3333 non-null   float64\n",
      " 18  cons.price.idx  3333 non-null   float64\n",
      " 19  cons.conf.idx   3333 non-null   float64\n",
      " 20  euribor3m       3333 non-null   float64\n",
      " 21  nr.employed     3333 non-null   float64\n",
      " 22  y               3333 non-null   object \n",
      "dtypes: float64(5), int64(7), object(11)\n",
      "memory usage: 599.0+ KB\n"
     ]
    }
   ],
   "source": [
    "trainingDataset = pd.read_csv(r'../Datasets/training-dataset-reduced.csv')\n",
    "testingDataset = pd.read_csv(r'../Datasets/testing-dataset-reduced.csv')\n",
    "trainingDataset.info()\n",
    "testingDataset.info()\n",
    "\n",
    "X_trainDataset = trainingDataset\n",
    "X_trainDataset =  X_trainDataset.drop('Unnamed: 0.1',axis=1) #temporal\n",
    "X_trainDataset =  X_trainDataset.drop('Unnamed: 0',axis=1) #temporal\n",
    "X_trainDataset =  X_trainDataset.drop('y',axis=1) #remove the column we want to predict\n",
    "\n",
    "Y_trainDataset = trainingDataset\n",
    "Y_trainDataset = Y_trainDataset['y'] #Only the column we want to predict\n",
    "\n",
    "X_testDataset = testingDataset\n",
    "X_testDataset =  X_testDataset.drop('Unnamed: 0.1',axis=1) #temporal\n",
    "X_testDataset =  X_testDataset.drop('Unnamed: 0',axis=1) #temporal\n",
    "X_testDataset =  X_testDataset.drop('y',axis=1) #remove the column we want to predict\n",
    "\n",
    "Y_testDataset = testingDataset\n",
    "Y_testDataset = Y_testDataset['y'] #Only the column we want to predict"
   ]
  },
  {
   "attachments": {},
   "cell_type": "markdown",
   "metadata": {},
   "source": [
    "### Prediction by cross-validation"
   ]
  },
  {
   "cell_type": "code",
   "execution_count": 17,
   "metadata": {},
   "outputs": [
    {
     "name": "stdout",
     "output_type": "stream",
     "text": [
      "Mean of the accuracy of all the splits: 0.7328610469540005\n"
     ]
    }
   ],
   "source": [
    "cv = StratifiedKFold(n_splits=10) #We specigy the number of splits of cross-validation\n",
    "gnb = GaussianNB() #We work with the gausian naive bayes\n",
    "\n",
    "#X_trainDataset = pd.get_dummies(X_trainDataset)\n",
    "cv_scores = cross_val_score(gnb,X=X_trainDataset,y=Y_trainDataset,cv=cv) #to get the mean of the perfomance of the predtictions of all the splits\n",
    "predicted = cross_val_predict(GaussianNB(), X=X_trainDataset, y=Y_trainDataset,  cv=cv) #to get the perfomance of the predictions depending on the value of the predicted variable\n",
    "\n",
    "#mean of the accuracy of all the splits\n",
    "print(\"Mean of the accuracy of all the splits: {}\".format(np.mean(cv_scores)))\n"
   ]
  },
  {
   "attachments": {},
   "cell_type": "markdown",
   "metadata": {},
   "source": [
    "### Prediction by fit"
   ]
  },
  {
   "cell_type": "code",
   "execution_count": null,
   "metadata": {},
   "outputs": [],
   "source": []
  }
 ],
 "metadata": {
  "kernelspec": {
   "display_name": "Python 3",
   "language": "python",
   "name": "python3"
  },
  "language_info": {
   "codemirror_mode": {
    "name": "ipython",
    "version": 3
   },
   "file_extension": ".py",
   "mimetype": "text/x-python",
   "name": "python",
   "nbconvert_exporter": "python",
   "pygments_lexer": "ipython3",
   "version": "3.10.5"
  },
  "orig_nbformat": 4,
  "vscode": {
   "interpreter": {
    "hash": "369f2c481f4da34e4445cda3fffd2e751bd1c4d706f27375911949ba6bb62e1c"
   }
  }
 },
 "nbformat": 4,
 "nbformat_minor": 2
}
