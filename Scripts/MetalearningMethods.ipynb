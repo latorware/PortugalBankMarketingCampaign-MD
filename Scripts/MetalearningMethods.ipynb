{
 "cells": [
  {
   "cell_type": "markdown",
   "id": "834ee918",
   "metadata": {},
   "source": [
    "# Meta Methods"
   ]
  },
  {
   "cell_type": "code",
   "execution_count": 2,
   "id": "ff0e6095",
   "metadata": {},
   "outputs": [
    {
     "data": {
      "text/html": [
       "<div>\n",
       "<style scoped>\n",
       "    .dataframe tbody tr th:only-of-type {\n",
       "        vertical-align: middle;\n",
       "    }\n",
       "\n",
       "    .dataframe tbody tr th {\n",
       "        vertical-align: top;\n",
       "    }\n",
       "\n",
       "    .dataframe thead th {\n",
       "        text-align: right;\n",
       "    }\n",
       "</style>\n",
       "<table border=\"1\" class=\"dataframe\">\n",
       "  <thead>\n",
       "    <tr style=\"text-align: right;\">\n",
       "      <th></th>\n",
       "      <th>age</th>\n",
       "      <th>campaign</th>\n",
       "      <th>cons.conf.idx</th>\n",
       "      <th>cons.price.idx</th>\n",
       "      <th>contact</th>\n",
       "      <th>day_of_week</th>\n",
       "      <th>default_unknown</th>\n",
       "      <th>default_yes</th>\n",
       "      <th>duration</th>\n",
       "      <th>education_basic.6y</th>\n",
       "      <th>...</th>\n",
       "      <th>marital_married</th>\n",
       "      <th>marital_single</th>\n",
       "      <th>marital_unknown</th>\n",
       "      <th>month</th>\n",
       "      <th>nr.employed</th>\n",
       "      <th>pdays</th>\n",
       "      <th>poutcome_nonexistent</th>\n",
       "      <th>poutcome_success</th>\n",
       "      <th>previous</th>\n",
       "      <th>y</th>\n",
       "    </tr>\n",
       "  </thead>\n",
       "  <tbody>\n",
       "    <tr>\n",
       "      <th>0</th>\n",
       "      <td>0.419753</td>\n",
       "      <td>0.036364</td>\n",
       "      <td>0.602510</td>\n",
       "      <td>0.698753</td>\n",
       "      <td>1.0</td>\n",
       "      <td>0.75</td>\n",
       "      <td>0.0</td>\n",
       "      <td>0.0</td>\n",
       "      <td>0.707998</td>\n",
       "      <td>0.0</td>\n",
       "      <td>...</td>\n",
       "      <td>1.0</td>\n",
       "      <td>0.0</td>\n",
       "      <td>0.0</td>\n",
       "      <td>0.222222</td>\n",
       "      <td>0.859735</td>\n",
       "      <td>1.0</td>\n",
       "      <td>1.0</td>\n",
       "      <td>0.0</td>\n",
       "      <td>0.0</td>\n",
       "      <td>0.0</td>\n",
       "    </tr>\n",
       "    <tr>\n",
       "      <th>1</th>\n",
       "      <td>0.246914</td>\n",
       "      <td>0.127273</td>\n",
       "      <td>0.338912</td>\n",
       "      <td>0.669135</td>\n",
       "      <td>0.0</td>\n",
       "      <td>0.75</td>\n",
       "      <td>0.0</td>\n",
       "      <td>0.0</td>\n",
       "      <td>0.427908</td>\n",
       "      <td>0.0</td>\n",
       "      <td>...</td>\n",
       "      <td>1.0</td>\n",
       "      <td>0.0</td>\n",
       "      <td>0.0</td>\n",
       "      <td>0.444444</td>\n",
       "      <td>1.000000</td>\n",
       "      <td>1.0</td>\n",
       "      <td>1.0</td>\n",
       "      <td>0.0</td>\n",
       "      <td>0.0</td>\n",
       "      <td>0.0</td>\n",
       "    </tr>\n",
       "    <tr>\n",
       "      <th>2</th>\n",
       "      <td>0.185185</td>\n",
       "      <td>0.000000</td>\n",
       "      <td>0.602510</td>\n",
       "      <td>0.698753</td>\n",
       "      <td>1.0</td>\n",
       "      <td>0.25</td>\n",
       "      <td>1.0</td>\n",
       "      <td>0.0</td>\n",
       "      <td>0.667382</td>\n",
       "      <td>1.0</td>\n",
       "      <td>...</td>\n",
       "      <td>1.0</td>\n",
       "      <td>0.0</td>\n",
       "      <td>0.0</td>\n",
       "      <td>0.222222</td>\n",
       "      <td>0.859735</td>\n",
       "      <td>1.0</td>\n",
       "      <td>1.0</td>\n",
       "      <td>0.0</td>\n",
       "      <td>0.0</td>\n",
       "      <td>0.0</td>\n",
       "    </tr>\n",
       "    <tr>\n",
       "      <th>3</th>\n",
       "      <td>0.407407</td>\n",
       "      <td>0.000000</td>\n",
       "      <td>0.376569</td>\n",
       "      <td>0.882307</td>\n",
       "      <td>1.0</td>\n",
       "      <td>0.75</td>\n",
       "      <td>0.0</td>\n",
       "      <td>0.0</td>\n",
       "      <td>0.525348</td>\n",
       "      <td>0.0</td>\n",
       "      <td>...</td>\n",
       "      <td>1.0</td>\n",
       "      <td>0.0</td>\n",
       "      <td>0.0</td>\n",
       "      <td>0.333333</td>\n",
       "      <td>1.000000</td>\n",
       "      <td>1.0</td>\n",
       "      <td>1.0</td>\n",
       "      <td>0.0</td>\n",
       "      <td>0.0</td>\n",
       "      <td>0.0</td>\n",
       "    </tr>\n",
       "    <tr>\n",
       "      <th>4</th>\n",
       "      <td>0.370370</td>\n",
       "      <td>0.054545</td>\n",
       "      <td>0.418410</td>\n",
       "      <td>0.296960</td>\n",
       "      <td>0.0</td>\n",
       "      <td>0.00</td>\n",
       "      <td>0.0</td>\n",
       "      <td>0.0</td>\n",
       "      <td>0.646660</td>\n",
       "      <td>0.0</td>\n",
       "      <td>...</td>\n",
       "      <td>0.0</td>\n",
       "      <td>1.0</td>\n",
       "      <td>0.0</td>\n",
       "      <td>0.333333</td>\n",
       "      <td>0.425709</td>\n",
       "      <td>1.0</td>\n",
       "      <td>1.0</td>\n",
       "      <td>0.0</td>\n",
       "      <td>0.0</td>\n",
       "      <td>1.0</td>\n",
       "    </tr>\n",
       "  </tbody>\n",
       "</table>\n",
       "<p>5 rows × 41 columns</p>\n",
       "</div>"
      ],
      "text/plain": [
       "        age  campaign  cons.conf.idx  cons.price.idx  contact  day_of_week  \\\n",
       "0  0.419753  0.036364       0.602510        0.698753      1.0         0.75   \n",
       "1  0.246914  0.127273       0.338912        0.669135      0.0         0.75   \n",
       "2  0.185185  0.000000       0.602510        0.698753      1.0         0.25   \n",
       "3  0.407407  0.000000       0.376569        0.882307      1.0         0.75   \n",
       "4  0.370370  0.054545       0.418410        0.296960      0.0         0.00   \n",
       "\n",
       "   default_unknown  default_yes  duration  education_basic.6y  ...  \\\n",
       "0              0.0          0.0  0.707998                 0.0  ...   \n",
       "1              0.0          0.0  0.427908                 0.0  ...   \n",
       "2              1.0          0.0  0.667382                 1.0  ...   \n",
       "3              0.0          0.0  0.525348                 0.0  ...   \n",
       "4              0.0          0.0  0.646660                 0.0  ...   \n",
       "\n",
       "   marital_married  marital_single  marital_unknown     month  nr.employed  \\\n",
       "0              1.0             0.0              0.0  0.222222     0.859735   \n",
       "1              1.0             0.0              0.0  0.444444     1.000000   \n",
       "2              1.0             0.0              0.0  0.222222     0.859735   \n",
       "3              1.0             0.0              0.0  0.333333     1.000000   \n",
       "4              0.0             1.0              0.0  0.333333     0.425709   \n",
       "\n",
       "   pdays  poutcome_nonexistent  poutcome_success  previous    y  \n",
       "0    1.0                   1.0               0.0       0.0  0.0  \n",
       "1    1.0                   1.0               0.0       0.0  0.0  \n",
       "2    1.0                   1.0               0.0       0.0  0.0  \n",
       "3    1.0                   1.0               0.0       0.0  0.0  \n",
       "4    1.0                   1.0               0.0       0.0  1.0  \n",
       "\n",
       "[5 rows x 41 columns]"
      ]
     },
     "metadata": {},
     "output_type": "display_data"
    },
    {
     "data": {
      "text/html": [
       "<div>\n",
       "<style scoped>\n",
       "    .dataframe tbody tr th:only-of-type {\n",
       "        vertical-align: middle;\n",
       "    }\n",
       "\n",
       "    .dataframe tbody tr th {\n",
       "        vertical-align: top;\n",
       "    }\n",
       "\n",
       "    .dataframe thead th {\n",
       "        text-align: right;\n",
       "    }\n",
       "</style>\n",
       "<table border=\"1\" class=\"dataframe\">\n",
       "  <thead>\n",
       "    <tr style=\"text-align: right;\">\n",
       "      <th></th>\n",
       "      <th>age</th>\n",
       "      <th>campaign</th>\n",
       "      <th>cons.conf.idx</th>\n",
       "      <th>cons.price.idx</th>\n",
       "      <th>contact</th>\n",
       "      <th>day_of_week</th>\n",
       "      <th>default_unknown</th>\n",
       "      <th>default_yes</th>\n",
       "      <th>duration</th>\n",
       "      <th>education_basic.6y</th>\n",
       "      <th>...</th>\n",
       "      <th>marital_married</th>\n",
       "      <th>marital_single</th>\n",
       "      <th>marital_unknown</th>\n",
       "      <th>month</th>\n",
       "      <th>nr.employed</th>\n",
       "      <th>pdays</th>\n",
       "      <th>poutcome_nonexistent</th>\n",
       "      <th>poutcome_success</th>\n",
       "      <th>previous</th>\n",
       "      <th>y</th>\n",
       "    </tr>\n",
       "  </thead>\n",
       "  <tbody>\n",
       "    <tr>\n",
       "      <th>0</th>\n",
       "      <td>0.098765</td>\n",
       "      <td>0.072727</td>\n",
       "      <td>0.154812</td>\n",
       "      <td>0.340608</td>\n",
       "      <td>0.0</td>\n",
       "      <td>0.0</td>\n",
       "      <td>0.0</td>\n",
       "      <td>0.0</td>\n",
       "      <td>0.638682</td>\n",
       "      <td>0.0</td>\n",
       "      <td>...</td>\n",
       "      <td>0.0</td>\n",
       "      <td>0.0</td>\n",
       "      <td>0.0</td>\n",
       "      <td>0.111111</td>\n",
       "      <td>0.512287</td>\n",
       "      <td>1.0</td>\n",
       "      <td>1.0</td>\n",
       "      <td>0.0</td>\n",
       "      <td>0.0</td>\n",
       "      <td>1.0</td>\n",
       "    </tr>\n",
       "    <tr>\n",
       "      <th>1</th>\n",
       "      <td>0.209877</td>\n",
       "      <td>0.000000</td>\n",
       "      <td>0.192469</td>\n",
       "      <td>0.269680</td>\n",
       "      <td>0.0</td>\n",
       "      <td>1.0</td>\n",
       "      <td>0.0</td>\n",
       "      <td>0.0</td>\n",
       "      <td>0.475605</td>\n",
       "      <td>0.0</td>\n",
       "      <td>...</td>\n",
       "      <td>0.0</td>\n",
       "      <td>1.0</td>\n",
       "      <td>0.0</td>\n",
       "      <td>0.222222</td>\n",
       "      <td>0.512287</td>\n",
       "      <td>1.0</td>\n",
       "      <td>1.0</td>\n",
       "      <td>0.0</td>\n",
       "      <td>0.0</td>\n",
       "      <td>0.0</td>\n",
       "    </tr>\n",
       "    <tr>\n",
       "      <th>2</th>\n",
       "      <td>0.518519</td>\n",
       "      <td>0.000000</td>\n",
       "      <td>0.602510</td>\n",
       "      <td>0.698753</td>\n",
       "      <td>1.0</td>\n",
       "      <td>0.0</td>\n",
       "      <td>1.0</td>\n",
       "      <td>0.0</td>\n",
       "      <td>0.378653</td>\n",
       "      <td>0.0</td>\n",
       "      <td>...</td>\n",
       "      <td>1.0</td>\n",
       "      <td>0.0</td>\n",
       "      <td>0.0</td>\n",
       "      <td>0.222222</td>\n",
       "      <td>0.859735</td>\n",
       "      <td>1.0</td>\n",
       "      <td>1.0</td>\n",
       "      <td>0.0</td>\n",
       "      <td>0.0</td>\n",
       "      <td>0.0</td>\n",
       "    </tr>\n",
       "    <tr>\n",
       "      <th>3</th>\n",
       "      <td>0.296296</td>\n",
       "      <td>0.018182</td>\n",
       "      <td>0.192469</td>\n",
       "      <td>0.269680</td>\n",
       "      <td>0.0</td>\n",
       "      <td>1.0</td>\n",
       "      <td>1.0</td>\n",
       "      <td>0.0</td>\n",
       "      <td>0.558171</td>\n",
       "      <td>0.0</td>\n",
       "      <td>...</td>\n",
       "      <td>1.0</td>\n",
       "      <td>0.0</td>\n",
       "      <td>0.0</td>\n",
       "      <td>0.222222</td>\n",
       "      <td>0.512287</td>\n",
       "      <td>1.0</td>\n",
       "      <td>1.0</td>\n",
       "      <td>0.0</td>\n",
       "      <td>0.0</td>\n",
       "      <td>0.0</td>\n",
       "    </tr>\n",
       "    <tr>\n",
       "      <th>4</th>\n",
       "      <td>0.395062</td>\n",
       "      <td>0.000000</td>\n",
       "      <td>0.602510</td>\n",
       "      <td>0.698753</td>\n",
       "      <td>1.0</td>\n",
       "      <td>1.0</td>\n",
       "      <td>0.0</td>\n",
       "      <td>0.0</td>\n",
       "      <td>0.579618</td>\n",
       "      <td>0.0</td>\n",
       "      <td>...</td>\n",
       "      <td>0.0</td>\n",
       "      <td>0.0</td>\n",
       "      <td>0.0</td>\n",
       "      <td>0.222222</td>\n",
       "      <td>0.859735</td>\n",
       "      <td>1.0</td>\n",
       "      <td>1.0</td>\n",
       "      <td>0.0</td>\n",
       "      <td>0.0</td>\n",
       "      <td>0.0</td>\n",
       "    </tr>\n",
       "  </tbody>\n",
       "</table>\n",
       "<p>5 rows × 41 columns</p>\n",
       "</div>"
      ],
      "text/plain": [
       "        age  campaign  cons.conf.idx  cons.price.idx  contact  day_of_week  \\\n",
       "0  0.098765  0.072727       0.154812        0.340608      0.0          0.0   \n",
       "1  0.209877  0.000000       0.192469        0.269680      0.0          1.0   \n",
       "2  0.518519  0.000000       0.602510        0.698753      1.0          0.0   \n",
       "3  0.296296  0.018182       0.192469        0.269680      0.0          1.0   \n",
       "4  0.395062  0.000000       0.602510        0.698753      1.0          1.0   \n",
       "\n",
       "   default_unknown  default_yes  duration  education_basic.6y  ...  \\\n",
       "0              0.0          0.0  0.638682                 0.0  ...   \n",
       "1              0.0          0.0  0.475605                 0.0  ...   \n",
       "2              1.0          0.0  0.378653                 0.0  ...   \n",
       "3              1.0          0.0  0.558171                 0.0  ...   \n",
       "4              0.0          0.0  0.579618                 0.0  ...   \n",
       "\n",
       "   marital_married  marital_single  marital_unknown     month  nr.employed  \\\n",
       "0              0.0             0.0              0.0  0.111111     0.512287   \n",
       "1              0.0             1.0              0.0  0.222222     0.512287   \n",
       "2              1.0             0.0              0.0  0.222222     0.859735   \n",
       "3              1.0             0.0              0.0  0.222222     0.512287   \n",
       "4              0.0             0.0              0.0  0.222222     0.859735   \n",
       "\n",
       "   pdays  poutcome_nonexistent  poutcome_success  previous    y  \n",
       "0    1.0                   1.0               0.0       0.0  1.0  \n",
       "1    1.0                   1.0               0.0       0.0  0.0  \n",
       "2    1.0                   1.0               0.0       0.0  0.0  \n",
       "3    1.0                   1.0               0.0       0.0  0.0  \n",
       "4    1.0                   1.0               0.0       0.0  0.0  \n",
       "\n",
       "[5 rows x 41 columns]"
      ]
     },
     "metadata": {},
     "output_type": "display_data"
    }
   ],
   "source": [
    "# Import libraries \n",
    "import pandas as pd   # Optional: good package for manipulating data \n",
    "import sklearn  # Package with learning algorithms implemented\n",
    "\n",
    "dfTrain = pd.read_csv(r'..\\Datasets\\training-dataset-reduced.csv')\n",
    "dfTest = pd.read_csv(r'..\\Datasets\\testing-dataset-reduced.csv')\n",
    "\n",
    "#Remove id\n",
    "\n",
    "dfTrain = dfTrain.iloc[: , 1:]\n",
    "dfTest = dfTest.iloc[: , 1:]\n",
    "X_train, y_train = dfTrain.drop('y', axis=1), dfTrain[\"y\"]\n",
    "X_test, y_test = dfTest.drop('y', axis=1), dfTest[\"y\"]\n",
    "\n",
    "display(dfTrain.head())\n",
    "display(dfTest.head())"
   ]
  },
  {
   "cell_type": "markdown",
   "id": "9de2e18a",
   "metadata": {},
   "source": [
    "### cv value (number of partitions of k-fold cross validation): "
   ]
  },
  {
   "cell_type": "code",
   "execution_count": 3,
   "id": "a67f7a4d",
   "metadata": {},
   "outputs": [],
   "source": [
    "cv = 10"
   ]
  },
  {
   "cell_type": "markdown",
   "id": "cd90ba4c",
   "metadata": {},
   "source": [
    "## Voting"
   ]
  },
  {
   "cell_type": "markdown",
   "id": "aff66e5b",
   "metadata": {},
   "source": [
    "#### Prepare and test the classifiers we will use with voting (naive bayes, knn and decision trees):"
   ]
  },
  {
   "cell_type": "code",
   "execution_count": 3,
   "id": "289bacd6",
   "metadata": {},
   "outputs": [
    {
     "name": "stdout",
     "output_type": "stream",
     "text": [
      "Best Params fo Knn= {'n_neighbors': 29, 'weights': 'distance'} Accuracy= 0.7393125509317413\n",
      "Accuracy: 0.659 [Naive Bayes]\n",
      "Accuracy: 0.802 [Knn (3)]\n",
      "Accuracy: 0.857 [Dec. Tree]\n"
     ]
    }
   ],
   "source": [
    "from sklearn.naive_bayes import GaussianNB\n",
    "from sklearn.neighbors import KNeighborsClassifier\n",
    "from sklearn.model_selection import GridSearchCV\n",
    "from sklearn.tree import DecisionTreeClassifier\n",
    "from sklearn.model_selection import cross_val_score\n",
    "from sklearn.ensemble import VotingClassifier\n",
    "from sklearn.model_selection import cross_val_predict\n",
    "from sklearn.metrics import confusion_matrix\n",
    "import matplotlib.pyplot as  plt\n",
    "from sklearn.metrics import classification_report\n",
    "from sklearn.metrics import accuracy_score\n",
    "\n",
    "clf1 = GaussianNB()\n",
    "\n",
    "params = {'n_neighbors':list(range(1,30,2)), 'weights':('distance','uniform')}\n",
    "knc = KNeighborsClassifier()\n",
    "clf = GridSearchCV(knc, param_grid=params,cv=cv,n_jobs=-1)  # If cv is integer, by default is Stratifyed \n",
    "clf.fit(X_train, y_train)\n",
    "print(\"Best Params fo Knn=\",clf.best_params_, \"Accuracy=\", clf.best_score_)\n",
    "parval=clf.best_params_\n",
    "clf2 = KNeighborsClassifier(n_neighbors=parval['n_neighbors'],weights=parval['weights'])\n",
    "\n",
    "clf3 = DecisionTreeClassifier(criterion='entropy')\n",
    "\n",
    "\n",
    "for clf, label in zip([clf1, clf2, clf3], ['Naive Bayes','Knn (3)', 'Dec. Tree', ]):\n",
    "    # scores = cross_val_score(clf, X_train, y_train, cv=cv, scoring='accuracy') #to get the mean of the perfomance of the predtictions of all the splits\n",
    "    clf.fit(X_train,y_train)#train by fit\n",
    "    y_predicted = clf.predict(X_test)\n",
    "    print(\"Accuracy: %0.3f [%s]\" % (accuracy_score(y_test, y_predicted), label))"
   ]
  },
  {
   "cell_type": "markdown",
   "id": "b9657dc6",
   "metadata": {},
   "source": [
    "#### Test the voting algorithm with different parameters: "
   ]
  },
  {
   "cell_type": "markdown",
   "id": "95f4c265",
   "metadata": {},
   "source": [
    "Hard voting (majority voting)"
   ]
  },
  {
   "cell_type": "code",
   "execution_count": 4,
   "id": "f5b1e9d3",
   "metadata": {},
   "outputs": [
    {
     "name": "stdout",
     "output_type": "stream",
     "text": [
      "Accuracy: 0.800 [Majority Voting]\n"
     ]
    }
   ],
   "source": [
    "import warnings\n",
    "warnings.filterwarnings(\"ignore\", category=DeprecationWarning)\n",
    "\n",
    "eclf = VotingClassifier(estimators=[('nb', clf1), ('knn3', clf2), ('dt', clf3)], voting='hard')\n",
    "# scores = cross_val_score(eclf, X_train, y_train, cv=cv, scoring='accuracy') #to get the mean of the perfomance of the predtictions of all the splits\n",
    "eclf.fit(X_train,y_train)#train by fit\n",
    "y_predicted = eclf.predict(X_test)\n",
    "print(\"Accuracy: %0.3f [%s]\" % (accuracy_score(y_test, y_predicted) , \"Majority Voting\"))\n"
   ]
  },
  {
   "cell_type": "markdown",
   "id": "d6ec16ce",
   "metadata": {},
   "source": [
    "Soft voting (Weighted voting)"
   ]
  },
  {
   "cell_type": "code",
   "execution_count": 14,
   "id": "da9001df",
   "metadata": {},
   "outputs": [
    {
     "name": "stdout",
     "output_type": "stream",
     "text": [
      "Accuracy: 0.812 [Weighted Voting -> Weights: nb=2, knn3=1, dt=2]\n",
      "Accuracy: 0.854 [Weighted Voting -> Weights: nb=1, knn3=2, dt=2]\n",
      "Accuracy: 0.857 [Weighted Voting -> Weights: nb=1, knn3=2, dt=3]\n",
      "Accuracy: 0.861 [Weighted Voting -> Weights: nb=2, knn3=1, dt=3]\n"
     ]
    }
   ],
   "source": [
    "eclf = VotingClassifier(estimators=[('nb', clf1), ('knn3', clf2), ('dt', clf3)],voting='soft', weights=[2,1,2])\n",
    "# scores = cross_val_score(eclf, X_train, y_train, cv=cv, scoring='accuracy') #to get the mean of the perfomance of the predtictions of all the splits\n",
    "eclf.fit(X_train,y_train)#train by fit\n",
    "y_predicted = eclf.predict(X_test)\n",
    "print(\"Accuracy: %0.3f [%s]\" % (accuracy_score(y_test, y_predicted), \"Weighted Voting -> Weights: nb=2, knn3=1, dt=2\"))\n",
    "\n",
    "eclf = VotingClassifier(estimators=[('nb', clf1), ('knn3', clf2), ('dt', clf3)],voting='soft', weights=[1,2,2])\n",
    "# scores = cross_val_score(eclf, X_train, y_train, cv=cv, scoring='accuracy') #to get the mean of the perfomance of the predtictions of all the splits\n",
    "eclf.fit(X_train,y_train)#train by fit\n",
    "y_predicted = eclf.predict(X_test)\n",
    "print(\"Accuracy: %0.3f [%s]\" % (accuracy_score(y_test, y_predicted), \"Weighted Voting -> Weights: nb=1, knn3=2, dt=2\"))\n",
    "\n",
    "eclf = VotingClassifier(estimators=[('nb', clf1), ('knn3', clf2), ('dt', clf3)],voting='soft', weights=[1,2,3])\n",
    "# scores = cross_val_score(eclf, X_train, y_train, cv=cv, scoring='accuracy') #to get the mean of the perfomance of the predtictions of all the splits\n",
    "eclf.fit(X_train,y_train)#train by fit\n",
    "y_predicted = eclf.predict(X_test)\n",
    "print(\"Accuracy: %0.3f [%s]\" % (accuracy_score(y_test, y_predicted), \"Weighted Voting -> Weights: nb=1, knn3=2, dt=3\"))\n",
    "\n",
    "eclf = VotingClassifier(estimators=[('nb', clf1), ('knn3', clf2), ('dt', clf3)],voting='soft', weights=[2,1,3])\n",
    "# scores = cross_val_score(eclf, X_train, y_train, cv=cv, scoring='accuracy') #to get the mean of the perfomance of the predtictions of all the splits\n",
    "eclf.fit(X_train,y_train)#train by fit\n",
    "y_predicted = eclf.predict(X_test)\n",
    "print(\"Accuracy: %0.3f [%s]\" % (accuracy_score(y_test, y_predicted), \"Weighted Voting -> Weights: nb=2, knn3=1, dt=3\"))"
   ]
  },
  {
   "cell_type": "markdown",
   "id": "911666ce",
   "metadata": {},
   "source": [
    "#### Print extra information for the best execution of the above ones (confusion matrix, classification report): "
   ]
  },
  {
   "cell_type": "markdown",
   "id": "3b8e750d",
   "metadata": {},
   "source": [
    "Best execution: Soft voting, Weights: nb=1, knn3=2, dt=3\""
   ]
  },
  {
   "cell_type": "code",
   "execution_count": 15,
   "id": "7d4e097b",
   "metadata": {},
   "outputs": [
    {
     "data": {
      "image/png": "[encoded data removed]",
      "text/plain": [
       "<Figure size 400x400 with 1 Axes>"
      ]
     },
     "metadata": {},
     "output_type": "display_data"
    },
    {
     "name": "stdout",
     "output_type": "stream",
     "text": [
      "              precision    recall  f1-score   support\n",
      "\n",
      "         0.0       0.98      0.86      0.91      2981\n",
      "         1.0       0.41      0.84      0.55       352\n",
      "\n",
      "    accuracy                           0.86      3333\n",
      "   macro avg       0.69      0.85      0.73      3333\n",
      "weighted avg       0.92      0.86      0.88      3333\n",
      "\n"
     ]
    }
   ],
   "source": [
    "eclf = VotingClassifier(estimators=[('nb', clf1), ('knn3', clf2), ('dt', clf3)],voting='soft', weights=[1,2,3])\n",
    "# predicted = cross_val_predict(eclf, X=X_train, y=y_train,  cv=cv) #to get the perfomance of the predictions depending on the value of the predicted variable\n",
    "eclf.fit(X_train,y_train)#train by fit\n",
    "y_predicted = eclf.predict(X_test)\n",
    "\n",
    "#print the confusion matrix\n",
    "confmat = confusion_matrix(y_test, y_predicted)\n",
    "fig, ax = plt.subplots(figsize=(4, 4))\n",
    "ax.matshow(confmat, cmap=plt.cm.Blues, alpha=0.3)\n",
    "for i in range(confmat.shape[0]):\n",
    "    for j in range(confmat.shape[1]):\n",
    "        ax.text(x=j, y=i, s=confmat[i, j], va='center', ha='center',fontsize=10)\n",
    "\n",
    "plt.xlabel('Predicted label')\n",
    "plt.ylabel('True label')\n",
    "plt.tight_layout()\n",
    "plt.show()\n",
    "\n",
    "#print the classification report\n",
    "print(classification_report(y_test, y_predicted))\n"
   ]
  },
  {
   "cell_type": "markdown",
   "id": "624c1aab",
   "metadata": {},
   "source": [
    "## Bagging"
   ]
  },
  {
   "cell_type": "markdown",
   "id": "8feda6f6",
   "metadata": {},
   "source": [
    "We are gonna use bagging with decision trees as it is one of the algorothms that performs best."
   ]
  },
  {
   "cell_type": "markdown",
   "id": "690f4e77",
   "metadata": {},
   "source": [
    "#### Test the bagging algorithm with different parameters: varying the number of estimators and the maxinmum number of features"
   ]
  },
  {
   "cell_type": "code",
   "execution_count": 16,
   "id": "86f329fd",
   "metadata": {},
   "outputs": [
    {
     "name": "stdout",
     "output_type": "stream",
     "text": [
      "With default max_features=1.0, and varying the number of estimators: \n",
      "\tAccuracy: 0.852 [1]\n",
      "\tAccuracy: 0.886 [2]\n",
      "\tAccuracy: 0.864 [5]\n",
      "\tAccuracy: 0.863 [10]\n",
      "\tAccuracy: 0.869 [20]\n",
      "\tAccuracy: 0.867 [50]\n",
      "\tAccuracy: 0.864 [100]\n",
      "\tAccuracy: 0.865 [200]\n",
      "\tAccuracy: 0.863 [250]\n",
      "\n",
      "With max_features=0.75, and varying the number of estimators: \n",
      "\tAccuracy: 0.842 [1]\n",
      "\tAccuracy: 0.883 [2]\n",
      "\tAccuracy: 0.856 [5]\n",
      "\tAccuracy: 0.875 [10]\n",
      "\tAccuracy: 0.871 [20]\n",
      "\tAccuracy: 0.869 [50]\n",
      "\tAccuracy: 0.868 [100]\n",
      "\tAccuracy: 0.866 [200]\n",
      "\tAccuracy: 0.866 [250]\n",
      "\n",
      "With max_features=0.5, and varying the number of estimators: \n",
      "\tAccuracy: 0.662 [1]\n",
      "\tAccuracy: 0.893 [2]\n",
      "\tAccuracy: 0.764 [5]\n",
      "\tAccuracy: 0.846 [10]\n",
      "\tAccuracy: 0.867 [20]\n",
      "\tAccuracy: 0.869 [50]\n",
      "\tAccuracy: 0.872 [100]\n",
      "\tAccuracy: 0.872 [200]\n",
      "\tAccuracy: 0.869 [250]\n",
      "\n",
      "With max_features=0.35, and varying the number of estimators: \n",
      "\tAccuracy: 0.746 [1]\n",
      "\tAccuracy: 0.790 [2]\n",
      "\tAccuracy: 0.810 [5]\n",
      "\tAccuracy: 0.859 [10]\n",
      "\tAccuracy: 0.860 [20]\n",
      "\tAccuracy: 0.866 [50]\n",
      "\tAccuracy: 0.874 [100]\n",
      "\tAccuracy: 0.869 [200]\n",
      "\tAccuracy: 0.872 [250]\n",
      "\n",
      "With max_features=0.25, and varying the number of estimators: \n",
      "\tAccuracy: 0.843 [1]\n",
      "\tAccuracy: 0.881 [2]\n",
      "\tAccuracy: 0.848 [5]\n",
      "\tAccuracy: 0.853 [10]\n",
      "\tAccuracy: 0.862 [20]\n",
      "\tAccuracy: 0.869 [50]\n",
      "\tAccuracy: 0.863 [100]\n",
      "\tAccuracy: 0.866 [200]\n",
      "\tAccuracy: 0.867 [250]\n"
     ]
    }
   ],
   "source": [
    "from sklearn.ensemble import BaggingClassifier\n",
    "\n",
    "\n",
    "print(\"With default max_features=1.0, and varying the number of estimators: \")\n",
    "for nest in [1,2,5,10,20,50,100,200, 250]:\n",
    "    eclf = BaggingClassifier(estimator=DecisionTreeClassifier(),n_estimators=nest)\n",
    "    # scores = cross_val_score(eclf, X_train, y_train, cv=cv, scoring='accuracy') #to get the mean of the perfomance of the predtictions of all the splits\n",
    "    eclf.fit(X_train,y_train)#train by fit\n",
    "    y_predicted = eclf.predict(X_test)\n",
    "    print(\"\\tAccuracy: %0.3f [%s]\" % (accuracy_score(y_test, y_predicted), nest))\n",
    "\n",
    "\n",
    "print(\"\\nWith max_features=0.75, and varying the number of estimators: \")\n",
    "for nest in [1,2,5,10,20,50,100,200, 250]:\n",
    "    eclf = BaggingClassifier(estimator=DecisionTreeClassifier(),n_estimators=nest,max_features=0.75)\n",
    "    # scores = cross_val_score(eclf, X_train, y_train, cv=cv, scoring='accuracy') #to get the mean of the perfomance of the predtictions of all the splits\n",
    "    eclf.fit(X_train,y_train)#train by fit\n",
    "    y_predicted = eclf.predict(X_test)\n",
    "    print(\"\\tAccuracy: %0.3f [%s]\" % (accuracy_score(y_test, y_predicted), nest))\n",
    "\n",
    "\n",
    "print(\"\\nWith max_features=0.5, and varying the number of estimators: \")\n",
    "for nest in [1,2,5,10,20,50,100,200, 250]:\n",
    "    eclf = BaggingClassifier(estimator=DecisionTreeClassifier(),n_estimators=nest,max_features=0.5)\n",
    "    # scores = cross_val_score(eclf, X_train, y_train, cv=cv, scoring='accuracy') #to get the mean of the perfomance of the predtictions of all the splits\n",
    "    eclf.fit(X_train,y_train)#train by fit\n",
    "    y_predicted = eclf.predict(X_test)\n",
    "    print(\"\\tAccuracy: %0.3f [%s]\" % (accuracy_score(y_test, y_predicted), nest))\n",
    "\n",
    "\n",
    "print(\"\\nWith max_features=0.35, and varying the number of estimators: \")\n",
    "for nest in [1,2,5,10,20,50,100,200, 250]:\n",
    "    eclf = BaggingClassifier(estimator=DecisionTreeClassifier(),n_estimators=nest,max_features=0.35)\n",
    "    # scores = cross_val_score(eclf, X_train, y_train, cv=cv, scoring='accuracy') #to get the mean of the perfomance of the predtictions of all the splits\n",
    "    eclf.fit(X_train,y_train)#train by fit\n",
    "    y_predicted = eclf.predict(X_test)\n",
    "    print(\"\\tAccuracy: %0.3f [%s]\" % (accuracy_score(y_test, y_predicted), nest))\n",
    "\n",
    "\n",
    "print(\"\\nWith max_features=0.25, and varying the number of estimators: \")\n",
    "for nest in [1,2,5,10,20,50,100,200, 250]:\n",
    "    eclf = BaggingClassifier(estimator=DecisionTreeClassifier(),n_estimators=nest,max_features=0.25)\n",
    "    # scores = cross_val_score(eclf, X_train, y_train, cv=cv, scoring='accuracy') #to get the mean of the perfomance of the predtictions of all the splits\n",
    "    eclf.fit(X_train,y_train)#train by fit\n",
    "    y_predicted = eclf.predict(X_test)\n",
    "    print(\"\\tAccuracy: %0.3f [%s]\" % (accuracy_score(y_test, y_predicted), nest))"
   ]
  },
  {
   "cell_type": "markdown",
   "id": "ff99b646",
   "metadata": {},
   "source": [
    "#### Print extra information for the best execution of the above ones (confusion matrix, classification report): "
   ]
  },
  {
   "cell_type": "markdown",
   "id": "1f6b0da5",
   "metadata": {},
   "source": [
    "Best execution: max_features: 0.35, number of estimators: 100"
   ]
  },
  {
   "cell_type": "code",
   "execution_count": 17,
   "id": "c30dcbd1",
   "metadata": {},
   "outputs": [
    {
     "data": {
      "image/png": "[encoded data removed]",
      "text/plain": [
       "<Figure size 400x400 with 1 Axes>"
      ]
     },
     "metadata": {},
     "output_type": "display_data"
    },
    {
     "name": "stdout",
     "output_type": "stream",
     "text": [
      "              precision    recall  f1-score   support\n",
      "\n",
      "         0.0       0.98      0.88      0.92      2981\n",
      "         1.0       0.44      0.82      0.57       352\n",
      "\n",
      "    accuracy                           0.87      3333\n",
      "   macro avg       0.71      0.85      0.75      3333\n",
      "weighted avg       0.92      0.87      0.89      3333\n",
      "\n"
     ]
    }
   ],
   "source": [
    "eclf = BaggingClassifier(estimator=DecisionTreeClassifier(),n_estimators=100, max_features=0.35)\n",
    "# predicted = cross_val_predict(eclf, X_train, y_train, cv=cv) #to get the perfomance of the predictions depending on the value of the predicted variable\n",
    "eclf.fit(X_train,y_train)#train by fit\n",
    "y_predicted = eclf.predict(X_test)\n",
    "\n",
    "#print the confusion matrix\n",
    "confmat = confusion_matrix(y_test, y_predicted)\n",
    "fig, ax = plt.subplots(figsize=(4, 4))\n",
    "ax.matshow(confmat, cmap=plt.cm.Blues, alpha=0.3)\n",
    "for i in range(confmat.shape[0]):\n",
    "    for j in range(confmat.shape[1]):\n",
    "        ax.text(x=j, y=i, s=confmat[i, j], va='center', ha='center',fontsize=10)\n",
    "\n",
    "plt.xlabel('Predicted label')\n",
    "plt.ylabel('True label')\n",
    "plt.tight_layout()\n",
    "plt.show()\n",
    "\n",
    "#print the classification report\n",
    "print(classification_report(y_test, y_predicted))\n"
   ]
  },
  {
   "cell_type": "markdown",
   "id": "583cd6b8",
   "metadata": {},
   "source": [
    "## Random Forest"
   ]
  },
  {
   "cell_type": "markdown",
   "id": "a7016901",
   "metadata": {},
   "source": [
    "Now we are going to execute the random forest algorithm and see the confusion matrix, the accuracy, the precision, the recall and the f-measure."
   ]
  },
  {
   "cell_type": "code",
   "execution_count": 10,
   "id": "b1f13b1f",
   "metadata": {},
   "outputs": [
    {
     "name": "stdout",
     "output_type": "stream",
     "text": [
      "Confusion matrix:\n"
     ]
    },
    {
     "data": {
      "image/png": "[encoded data removed]",
      "text/plain": [
       "<Figure size 400x400 with 1 Axes>"
      ]
     },
     "metadata": {},
     "output_type": "display_data"
    },
    {
     "name": "stdout",
     "output_type": "stream",
     "text": [
      "              precision    recall  f1-score   support\n",
      "\n",
      "         0.0       0.99      0.86      0.92      2981\n",
      "         1.0       0.44      0.93      0.59       352\n",
      "\n",
      "    accuracy                           0.87      3333\n",
      "   macro avg       0.71      0.89      0.76      3333\n",
      "weighted avg       0.93      0.87      0.89      3333\n",
      "\n"
     ]
    }
   ],
   "source": [
    "from sklearn.ensemble import RandomForestClassifier\n",
    "from sklearn.metrics import confusion_matrix\n",
    "from statsmodels.stats.proportion import proportion_confint\n",
    "import matplotlib.pyplot as plt\n",
    "\n",
    "rfc = RandomForestClassifier(n_estimators=250)\n",
    "rfc.fit(X_train, y_train)\n",
    "pred = rfc.predict(X_test)\n",
    "\n",
    "#print the confusion matrix\n",
    "confmat = confusion_matrix(y_test, pred)\n",
    "fig, ax = plt.subplots(figsize=(4, 4))\n",
    "ax.matshow(confmat, cmap=plt.cm.Blues, alpha=0.3)\n",
    "for i in range(confmat.shape[0]):\n",
    "    for j in range(confmat.shape[1]):\n",
    "        ax.text(x=j, y=i, s=confmat[i, j], va='center', ha='center',fontsize=10)\n",
    "print(\"Confusion matrix:\")\n",
    "plt.xlabel('Predicted label')\n",
    "plt.ylabel('True label')\n",
    "plt.tight_layout()\n",
    "plt.show()\n",
    "\n",
    "print(sklearn.metrics.classification_report(y_test, pred))"
   ]
  },
  {
   "cell_type": "markdown",
   "id": "b69c9d8a",
   "metadata": {},
   "source": [
    "Now we are going to try with ExtraTreesClassifier in order to introduce more randomness in the random trees, to see if it improves the results although these are quite good results."
   ]
  },
  {
   "cell_type": "code",
   "execution_count": 17,
   "id": "903c1fb8",
   "metadata": {
    "scrolled": true
   },
   "outputs": [
    {
     "name": "stdout",
     "output_type": "stream",
     "text": [
      "Confusion matrix:\n"
     ]
    },
    {
     "data": {
      "image/png": "[encoded data removed]",
      "text/plain": [
       "<Figure size 400x400 with 1 Axes>"
      ]
     },
     "metadata": {},
     "output_type": "display_data"
    },
    {
     "name": "stdout",
     "output_type": "stream",
     "text": [
      "              precision    recall  f1-score   support\n",
      "\n",
      "         0.0       0.98      0.86      0.92      2981\n",
      "         1.0       0.43      0.87      0.57       352\n",
      "\n",
      "    accuracy                           0.86      3333\n",
      "   macro avg       0.70      0.87      0.75      3333\n",
      "weighted avg       0.92      0.86      0.88      3333\n",
      "\n"
     ]
    }
   ],
   "source": [
    "from sklearn.ensemble import ExtraTreesClassifier\n",
    "\n",
    "rfc = ExtraTreesClassifier(n_estimators=250)\n",
    "rfc.fit(X_train, y_train)\n",
    "pred = rfc.predict(X_test)\n",
    "\n",
    "#print the confusion matrix\n",
    "confmat = confusion_matrix(y_test, pred)\n",
    "fig, ax = plt.subplots(figsize=(4, 4))\n",
    "ax.matshow(confmat, cmap=plt.cm.Blues, alpha=0.3)\n",
    "for i in range(confmat.shape[0]):\n",
    "    for j in range(confmat.shape[1]):\n",
    "        ax.text(x=j, y=i, s=confmat[i, j], va='center', ha='center',fontsize=10)\n",
    "print(\"Confusion matrix:\")\n",
    "plt.xlabel('Predicted label')\n",
    "plt.ylabel('True label')\n",
    "plt.tight_layout()\n",
    "plt.show()\n",
    "\n",
    "print(sklearn.metrics.classification_report(y_test, pred))"
   ]
  },
  {
   "cell_type": "markdown",
   "id": "6a6350ce",
   "metadata": {},
   "source": [
    "## Boosting"
   ]
  },
  {
   "cell_type": "markdown",
   "id": "e98bf3a0",
   "metadata": {},
   "source": [
    "Last but not least, the next metalearning method we are going to execute is the boosting method. We will use adaboosting with decision trees with 1 and then 5 max depth, and also gradient boosting classifier with max depth 1."
   ]
  },
  {
   "cell_type": "code",
   "execution_count": 12,
   "id": "d9e4543a",
   "metadata": {},
   "outputs": [
    {
     "name": "stdout",
     "output_type": "stream",
     "text": [
      "Confusion matrix:\n"
     ]
    },
    {
     "data": {
      "image/png": "[encoded data removed]",
      "text/plain": [
       "<Figure size 400x400 with 1 Axes>"
      ]
     },
     "metadata": {},
     "output_type": "display_data"
    },
    {
     "name": "stdout",
     "output_type": "stream",
     "text": [
      "              precision    recall  f1-score   support\n",
      "\n",
      "         0.0       0.98      0.88      0.93      2981\n",
      "         1.0       0.45      0.86      0.59       352\n",
      "\n",
      "    accuracy                           0.88      3333\n",
      "   macro avg       0.72      0.87      0.76      3333\n",
      "weighted avg       0.93      0.88      0.89      3333\n",
      "\n"
     ]
    }
   ],
   "source": [
    "from sklearn.ensemble import AdaBoostClassifier\n",
    "\n",
    "abc = AdaBoostClassifier(n_estimators=250)\n",
    "abc.fit(X_train, y_train)\n",
    "pred = abc.predict(X_test)\n",
    "\n",
    "#print the confusion matrix\n",
    "confmat = confusion_matrix(y_test, pred)\n",
    "fig, ax = plt.subplots(figsize=(4, 4))\n",
    "ax.matshow(confmat, cmap=plt.cm.Blues, alpha=0.3)\n",
    "for i in range(confmat.shape[0]):\n",
    "    for j in range(confmat.shape[1]):\n",
    "        ax.text(x=j, y=i, s=confmat[i, j], va='center', ha='center',fontsize=10)\n",
    "print(\"Confusion matrix:\")\n",
    "plt.xlabel('Predicted label')\n",
    "plt.ylabel('True label')\n",
    "plt.tight_layout()\n",
    "plt.show()\n",
    "\n",
    "print(sklearn.metrics.classification_report(y_test, pred))"
   ]
  },
  {
   "cell_type": "markdown",
   "id": "029cba28",
   "metadata": {},
   "source": [
    "Now we are going to try boosting with decision tree classifiers with depth = 5"
   ]
  },
  {
   "cell_type": "code",
   "execution_count": 14,
   "id": "f3925e83",
   "metadata": {},
   "outputs": [
    {
     "name": "stdout",
     "output_type": "stream",
     "text": [
      "Confusion matrix:\n"
     ]
    },
    {
     "data": {
      "image/png": "[encoded data removed]",
      "text/plain": [
       "<Figure size 400x400 with 1 Axes>"
      ]
     },
     "metadata": {},
     "output_type": "display_data"
    },
    {
     "name": "stdout",
     "output_type": "stream",
     "text": [
      "              precision    recall  f1-score   support\n",
      "\n",
      "         0.0       0.99      0.86      0.92      2981\n",
      "         1.0       0.43      0.89      0.58       352\n",
      "\n",
      "    accuracy                           0.86      3333\n",
      "   macro avg       0.71      0.88      0.75      3333\n",
      "weighted avg       0.93      0.86      0.88      3333\n",
      "\n"
     ]
    }
   ],
   "source": [
    "from sklearn.ensemble import AdaBoostClassifier\n",
    "from sklearn.tree import DecisionTreeClassifier\n",
    "\n",
    "abc = AdaBoostClassifier(DecisionTreeClassifier(max_depth=5), n_estimators=250)\n",
    "abc.fit(X_train, y_train)\n",
    "pred = abc.predict(X_test)\n",
    "\n",
    "#print the confusion matrix\n",
    "confmat = confusion_matrix(y_test, pred)\n",
    "fig, ax = plt.subplots(figsize=(4, 4))\n",
    "ax.matshow(confmat, cmap=plt.cm.Blues, alpha=0.3)\n",
    "for i in range(confmat.shape[0]):\n",
    "    for j in range(confmat.shape[1]):\n",
    "        ax.text(x=j, y=i, s=confmat[i, j], va='center', ha='center',fontsize=10)\n",
    "print(\"Confusion matrix:\")\n",
    "plt.xlabel('Predicted label')\n",
    "plt.ylabel('True label')\n",
    "plt.tight_layout()\n",
    "plt.show()\n",
    "\n",
    "print(sklearn.metrics.classification_report(y_test, pred))"
   ]
  },
  {
   "cell_type": "markdown",
   "id": "ecf4444f",
   "metadata": {},
   "source": [
    "Now we are going to try gradient boosting classifier with 250 classifiers"
   ]
  },
  {
   "cell_type": "code",
   "execution_count": 15,
   "id": "8225daf7",
   "metadata": {},
   "outputs": [
    {
     "name": "stdout",
     "output_type": "stream",
     "text": [
      "Confusion matrix:\n"
     ]
    },
    {
     "data": {
      "image/png": "[encoded data removed]",
      "text/plain": [
       "<Figure size 400x400 with 1 Axes>"
      ]
     },
     "metadata": {},
     "output_type": "display_data"
    },
    {
     "name": "stdout",
     "output_type": "stream",
     "text": [
      "              precision    recall  f1-score   support\n",
      "\n",
      "         0.0       0.99      0.86      0.92      2981\n",
      "         1.0       0.45      0.93      0.60       352\n",
      "\n",
      "    accuracy                           0.87      3333\n",
      "   macro avg       0.72      0.90      0.76      3333\n",
      "weighted avg       0.93      0.87      0.89      3333\n",
      "\n"
     ]
    }
   ],
   "source": [
    "from sklearn.ensemble import GradientBoostingClassifier\n",
    "\n",
    "abc = GradientBoostingClassifier(n_estimators=250)\n",
    "abc.fit(X_train, y_train)\n",
    "pred = abc.predict(X_test)\n",
    "\n",
    "#print the confusion matrix\n",
    "confmat = confusion_matrix(y_test, pred)\n",
    "fig, ax = plt.subplots(figsize=(4, 4))\n",
    "ax.matshow(confmat, cmap=plt.cm.Blues, alpha=0.3)\n",
    "for i in range(confmat.shape[0]):\n",
    "    for j in range(confmat.shape[1]):\n",
    "        ax.text(x=j, y=i, s=confmat[i, j], va='center', ha='center',fontsize=10)\n",
    "print(\"Confusion matrix:\")\n",
    "plt.xlabel('Predicted label')\n",
    "plt.ylabel('True label')\n",
    "plt.tight_layout()\n",
    "plt.show()\n",
    "\n",
    "print(sklearn.metrics.classification_report(y_test, pred))"
   ]
  }
 ],
 "metadata": {
  "kernelspec": {
   "display_name": "Python 3 (ipykernel)",
   "language": "python",
   "name": "python3"
  },
  "language_info": {
   "codemirror_mode": {
    "name": "ipython",
    "version": 3
   },
   "file_extension": ".py",
   "mimetype": "text/x-python",
   "name": "python",
   "nbconvert_exporter": "python",
   "pygments_lexer": "ipython3",
   "version": "3.9.13"
  },
  "vscode": {
   "interpreter": {
    "hash": "369f2c481f4da34e4445cda3fffd2e751bd1c4d706f27375911949ba6bb62e1c"
   }
  }
 },
 "nbformat": 4,
 "nbformat_minor": 5
}
