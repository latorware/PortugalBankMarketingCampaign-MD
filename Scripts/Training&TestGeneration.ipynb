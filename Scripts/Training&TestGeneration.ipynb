{
 "cells": [
  {
   "cell_type": "code",
   "execution_count": 23,
   "metadata": {},
   "outputs": [],
   "source": [
    "import pandas as pd\n",
    "import numpy as np\n",
    "import sklearn                                  \n",
    "import sklearn.model_selection as cv    \n",
    "np.random.seed(10)"
   ]
  },
  {
   "cell_type": "markdown",
   "metadata": {},
   "source": [
    "# We will take 2/3 for training and 1/3 for testing"
   ]
  },
  {
   "cell_type": "code",
   "execution_count": 31,
   "metadata": {},
   "outputs": [],
   "source": [
    "#Generating the training and test datasets\n",
    "df = pd.read_csv(r'../RawDatasets/bank-additional-full.csv',  sep=';', na_values=\".\")\n",
    "(trainingDataset, testDataset) = cv.train_test_split(df, test_size=.33, random_state=1, shuffle=True)\n",
    "trainingDataset.to_csv(r'../Datasets/training-dataset.csv')\n",
    "testDataset.to_csv(r'../Datasets/testing-dataset.csv')"
   ]
  },
  {
   "cell_type": "markdown",
   "metadata": {},
   "source": [
    "Once we have split our original dataset into training and test, we will take a lot at the proportions of yes/no of the feature. As we split randomly the proportion should be simmilar to the original one."
   ]
  },
  {
   "cell_type": "code",
   "execution_count": 33,
   "metadata": {},
   "outputs": [
    {
     "name": "stdout",
     "output_type": "stream",
     "text": [
      "Proportion of the feature in the ORIGINAL dataset\n",
      "no     0.887346\n",
      "yes    0.112654\n",
      "Name: y, dtype: float64\n",
      "--------------------------------------------------\n",
      "Proportion of the feature in the TRAINING dataset\n",
      "no     0.887806\n",
      "yes    0.112194\n",
      "Name: y, dtype: float64\n",
      "--------------------------------------------------\n",
      "Proportion of the feature in the TEST dataset\n",
      "no     0.886412\n",
      "yes    0.113588\n",
      "Name: y, dtype: float64\n"
     ]
    }
   ],
   "source": [
    "print(\"Proportion of the feature in the ORIGINAL dataset\")\n",
    "print(df.y.value_counts(normalize=True))\n",
    "print(\"--------------------------------------------------\")\n",
    "print(\"Proportion of the feature in the TRAINING dataset\")\n",
    "print(trainingDataset.y.value_counts(normalize=True))\n",
    "print(\"--------------------------------------------------\")\n",
    "print(\"Proportion of the feature in the TEST dataset\")\n",
    "print(testDataset.y.value_counts(normalize=True))\n"
   ]
  }
 ],
 "metadata": {
  "kernelspec": {
   "display_name": "Python 3.9.13 ('base')",
   "language": "python",
   "name": "python3"
  },
  "language_info": {
   "codemirror_mode": {
    "name": "ipython",
    "version": 3
   },
   "file_extension": ".py",
   "mimetype": "text/x-python",
   "name": "python",
   "nbconvert_exporter": "python",
   "pygments_lexer": "ipython3",
   "version": "3.9.13"
  },
  "orig_nbformat": 4,
  "vscode": {
   "interpreter": {
    "hash": "32069270ac4b86499d291c54bd6008f4be6d07d437546a0bb345ac201d0d6f03"
   }
  }
 },
 "nbformat": 4,
 "nbformat_minor": 2
}
