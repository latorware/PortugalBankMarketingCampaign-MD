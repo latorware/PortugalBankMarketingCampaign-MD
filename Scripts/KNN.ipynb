{
 "cells": [
  {
   "attachments": {},
   "cell_type": "markdown",
   "metadata": {},
   "source": [
    "# K-NN Method"
   ]
  },
  {
   "attachments": {},
   "cell_type": "markdown",
   "metadata": {},
   "source": [
    "###  Necessary imports and libraries"
   ]
  },
  {
   "cell_type": "code",
   "execution_count": 72,
   "metadata": {},
   "outputs": [],
   "source": [
    "%matplotlib inline\n",
    "import sklearn                                              # DM library\n",
    "import matplotlib.pyplot as plt                             # To show plots\n",
    "import numpy as np                                          # Maths library\n",
    "import sklearn.model_selection as cv                        # For cross-validation\n",
    "import sklearn.neighbors as nb                              # To use KNN  \n",
    "import pandas as pd                                         # To read CSV\n",
    "import warnings                                             # To avoid printing warnings\n",
    "warnings.filterwarnings('ignore')\n",
    "\n",
    "pd.set_option('display.max_columns', None)\n",
    "\n",
    "#pd.set_option('display.max_rows', None) \n",
    "pd.set_option('display.max_rows', 21)  \n",
    "\n",
    "pd.set_option('display.expand_frame_repr', False)\n",
    "pd.set_option('max_colwidth', None)\n",
    "pd.set_option('display.precision', 3)"
   ]
  },
  {
   "attachments": {},
   "cell_type": "markdown",
   "metadata": {},
   "source": [
    "## 1- Read the Data"
   ]
  },
  {
   "cell_type": "code",
   "execution_count": 73,
   "metadata": {},
   "outputs": [],
   "source": [
    "# Dataset for training generated during preprocessing\n",
    "trainingData = pd.read_csv(r'../Datasets/training-dataset-reduced.csv')\n",
    "#trainingData.info()\n",
    "\n",
    "trainingInput = trainingData\n",
    "trainingInput = trainingInput.drop('Unnamed: 0', axis=1)    # Non needed column generated during preprocessing\n",
    "trainingInput = trainingInput.drop('y', axis=1)             # We remove the column we want to predict in the output\n",
    "\n",
    "trainingOutput = trainingData\n",
    "trainingOutput = trainingOutput['y']                        # We keep only the column we want to predict in the output\n",
    "\n",
    "\n",
    "# Dataset for testing generated during preprocessing\n",
    "testingData = pd.read_csv(r'../Datasets/testing-dataset-reduced.csv')\n",
    "#testingData.info()\n",
    "\n",
    "testingInput = testingData\n",
    "testingInput = testingInput.drop('Unnamed: 0', axis=1)      # Non needed column generated during preprocessing\n",
    "testingInput = testingInput.drop('y', axis=1)               # We remove the column we want to predict in the output\n",
    "\n",
    "testingOutput = testingData\n",
    "testingOutput = testingOutput['y']                          # We keep only the column we want to predict in the output\n"
   ]
  },
  {
   "attachments": {},
   "cell_type": "markdown",
   "metadata": {},
   "source": [
    "## 2- Simple Cross-Validation"
   ]
  },
  {
   "cell_type": "code",
   "execution_count": 115,
   "metadata": {},
   "outputs": [
    {
     "name": "stdout",
     "output_type": "stream",
     "text": [
      "0.7572757275727573\n"
     ]
    }
   ],
   "source": [
    "knc = nb.KNeighborsClassifier()                             # We create a KNN classifier\n",
    "knc.fit(trainingInput, trainingOutput)                      # We train the classifier\n",
    "print(knc.score(testingInput, testingOutput))               # We obtain the accuracy score of learned classifier on test data"
   ]
  },
  {
   "cell_type": "code",
   "execution_count": 116,
   "metadata": {},
   "outputs": [
    {
     "name": "stdout",
     "output_type": "stream",
     "text": [
      "[[2293  688]\n",
      " [ 121  231]]\n"
     ]
    }
   ],
   "source": [
    "# More information with confussion matrix\n",
    "from sklearn.metrics import confusion_matrix\n",
    "\n",
    "outputPrediction = knc.predict(testingInput)\n",
    "print(sklearn.metrics.confusion_matrix(testingOutput, outputPrediction))"
   ]
  },
  {
   "cell_type": "code",
   "execution_count": 114,
   "metadata": {},
   "outputs": [
    {
     "name": "stdout",
     "output_type": "stream",
     "text": [
      "              precision    recall  f1-score   support\n",
      "\n",
      "         0.0       0.95      0.84      0.89      2981\n",
      "         1.0       0.31      0.60      0.41       352\n",
      "\n",
      "    accuracy                           0.82      3333\n",
      "   macro avg       0.63      0.72      0.65      3333\n",
      "weighted avg       0.88      0.82      0.84      3333\n",
      "\n"
     ]
    }
   ],
   "source": [
    "# Obtain Recall, Precision and F-Measure\n",
    "from sklearn import metrics\n",
    "\n",
    "print(metrics.classification_report(testingOutput, outputPrediction))"
   ]
  },
  {
   "attachments": {},
   "cell_type": "markdown",
   "metadata": {},
   "source": [
    "## 3- 10-Fold Cross-Validation"
   ]
  },
  {
   "cell_type": "code",
   "execution_count": 77,
   "metadata": {},
   "outputs": [
    {
     "name": "stdout",
     "output_type": "stream",
     "text": [
      "Scores for each validation: [0.70314843 0.72713643 0.69115442 0.69565217 0.73313343 0.72113943\n",
      " 0.68665667 0.6981982  0.75375375 0.6966967 ] \n",
      "\n",
      "Mean of the 10 validations: 0.7106669638153897 \n",
      "\n",
      "Standard deviation: 0.020813394347059363\n"
     ]
    }
   ],
   "source": [
    "from sklearn.model_selection import cross_val_score  \n",
    "from sklearn.model_selection import cross_val_predict  \n",
    "from sklearn.metrics import accuracy_score\n",
    "\n",
    "cv_scores = cross_val_score(nb.KNeighborsClassifier(),  \n",
    "                            X=trainingInput,  \n",
    "                            y=trainingOutput,  \n",
    "                            cv=10, scoring='accuracy')  \n",
    "\n",
    "# cv_scores is a list with 10 accuracies (one for each validation)\n",
    "print(\"Scores for each validation:\", cv_scores, \"\\n\")\n",
    "print(\"Mean of the 10 validations:\", np.mean(cv_scores), \"\\n\")\n",
    "print(\"Standard deviation:\", np.std(cv_scores))\n"
   ]
  },
  {
   "attachments": {},
   "cell_type": "markdown",
   "metadata": {},
   "source": [
    "## 4- Finding parameters for K-NN"
   ]
  },
  {
   "attachments": {},
   "cell_type": "markdown",
   "metadata": {},
   "source": [
    "### Manually testing some parameters WITHOUT distance weighting:"
   ]
  },
  {
   "cell_type": "code",
   "execution_count": 38,
   "metadata": {},
   "outputs": [
    {
     "name": "stdout",
     "output_type": "stream",
     "text": [
      "Accuracy 1 neighbour: 0.6812679245962605\n",
      "Accuracy 3 neighbours: 0.696718757738248\n",
      "Accuracy 5 neighbours: 0.7106669638153897\n",
      "Accuracy 7 neighbours: 0.7198146422284353\n",
      "Accuracy 9 neighbours: 0.7246144945545245\n"
     ]
    }
   ],
   "source": [
    "# Results with different K parameters\n",
    "cv_scores = cross_val_score(nb.KNeighborsClassifier(n_neighbors=1), X=trainingInput, y=trainingOutput,  cv=10)  \n",
    "print(\"Accuracy 1 neighbour:\", np.mean(cv_scores))\n",
    "\n",
    "cv_scores = cross_val_score(nb.KNeighborsClassifier(n_neighbors=3), X=trainingInput, y=trainingOutput,  cv=10)  \n",
    "print(\"Accuracy 3 neighbours:\", np.mean(cv_scores))\n",
    "\n",
    "cv_scores = cross_val_score(nb.KNeighborsClassifier(n_neighbors=5), X=trainingInput, y=trainingOutput,  cv=10)  \n",
    "print(\"Accuracy 5 neighbours:\", np.mean(cv_scores))\n",
    "\n",
    "cv_scores = cross_val_score(nb.KNeighborsClassifier(n_neighbors=7), X=trainingInput, y=trainingOutput,  cv=10)  \n",
    "print(\"Accuracy 7 neighbours:\", np.mean(cv_scores))\n",
    "\n",
    "cv_scores = cross_val_score(nb.KNeighborsClassifier(n_neighbors=9), X=trainingInput, y=trainingOutput,  cv=10)  \n",
    "print(\"Accuracy 9 neighbours:\", np.mean(cv_scores))"
   ]
  },
  {
   "attachments": {},
   "cell_type": "markdown",
   "metadata": {},
   "source": [
    "### Manually testing some parameters WITH distance weighting:"
   ]
  },
  {
   "cell_type": "code",
   "execution_count": 39,
   "metadata": {},
   "outputs": [
    {
     "name": "stdout",
     "output_type": "stream",
     "text": [
      "Accuracy 1 neighbour and distance weighting: 0.6812679245962605\n",
      "Accuracy 3 neighbours and distance weighting: 0.7037688363025694\n",
      "Accuracy 5 neighbours and distance weighting: 0.7142674158416288\n",
      "Accuracy 7 neighbours and distance weighting: 0.7252159956058006\n",
      "Accuracy 9 neighbours and distance weighting: 0.7295653974814394\n"
     ]
    }
   ],
   "source": [
    "# Results with different K parameters + distance weighting\n",
    "cv_scores = cross_val_score(nb.KNeighborsClassifier(n_neighbors=1, weights='distance'), X=trainingInput, y=trainingOutput,  cv=10)  \n",
    "print(\"Accuracy 1 neighbour and distance weighting:\", np.mean(cv_scores))\n",
    "\n",
    "cv_scores = cross_val_score(nb.KNeighborsClassifier(n_neighbors=3, weights='distance'), X=trainingInput, y=trainingOutput,  cv=10)  \n",
    "print(\"Accuracy 3 neighbours and distance weighting:\", np.mean(cv_scores))\n",
    "\n",
    "cv_scores = cross_val_score(nb.KNeighborsClassifier(n_neighbors=5, weights='distance'), X=trainingInput, y=trainingOutput,  cv=10)  \n",
    "print(\"Accuracy 5 neighbours and distance weighting:\", np.mean(cv_scores))\n",
    "\n",
    "cv_scores = cross_val_score(nb.KNeighborsClassifier(n_neighbors=7, weights='distance'), X=trainingInput, y=trainingOutput,  cv=10)  \n",
    "print(\"Accuracy 7 neighbours and distance weighting:\", np.mean(cv_scores))\n",
    "\n",
    "cv_scores = cross_val_score(nb.KNeighborsClassifier(n_neighbors=9, weights='distance'), X=trainingInput, y=trainingOutput,  cv=10)  \n",
    "print(\"Accuracy 9 neighbours and distance weighting:\", np.mean(cv_scores))"
   ]
  },
  {
   "attachments": {},
   "cell_type": "markdown",
   "metadata": {},
   "source": [
    "### Automatically finding best parameters and plotting K variation"
   ]
  },
  {
   "cell_type": "code",
   "execution_count": 98,
   "metadata": {},
   "outputs": [
    {
     "data": {
      "image/png": "[encoded data removed]",
      "text/plain": [
       "<Figure size 640x480 with 1 Axes>"
      ]
     },
     "metadata": {},
     "output_type": "display_data"
    }
   ],
   "source": [
    "lr = []\n",
    "for ki in range(1,101,1):\n",
    "    cv_scores = cross_val_score(nb.KNeighborsClassifier(n_neighbors=ki), X=trainingInput, y=trainingOutput, cv=10)\n",
    "    lr.append(np.mean(cv_scores))\n",
    "plt.plot(range(1,101,1),lr,'b',label='No weighting')\n",
    "\n",
    "lr = []\n",
    "for ki in range(1,101,1):\n",
    "    cv_scores = cross_val_score(nb.KNeighborsClassifier(n_neighbors=ki, weights='distance'), X=trainingInput, y=trainingOutput, cv=10)\n",
    "    lr.append(np.mean(cv_scores))\n",
    "plt.plot(range(1,101,1),lr,'r',label='Weighting')\n",
    "plt.xlabel('K')\n",
    "plt.ylabel('Accuracy')\n",
    "plt.legend(loc='lower right')\n",
    "plt.grid()\n",
    "plt.tight_layout()\n",
    "\n",
    "plt.show()"
   ]
  },
  {
   "attachments": {},
   "cell_type": "markdown",
   "metadata": {},
   "source": [
    "### Automatically finding best parameters using the Grid Search method"
   ]
  },
  {
   "cell_type": "code",
   "execution_count": 117,
   "metadata": {},
   "outputs": [
    {
     "name": "stdout",
     "output_type": "stream",
     "text": [
      "Best Params= {'n_neighbors': 73, 'weights': 'distance'} Accuracy= 0.7435129282205744\n"
     ]
    }
   ],
   "source": [
    "from sklearn.model_selection import GridSearchCV\n",
    "params = {'n_neighbors':list(range(1,101,1)), 'weights':('distance','uniform')}\n",
    "knc = nb.KNeighborsClassifier()\n",
    "clf = GridSearchCV(knc, param_grid=params, cv=10, n_jobs=-1)  # If cv is integer, by default is Stratifyed \n",
    "clf.fit(trainingInput, trainingOutput)\n",
    "print(\"Best Params=\",clf.best_params_, \"Accuracy=\", clf.best_score_)"
   ]
  },
  {
   "attachments": {},
   "cell_type": "markdown",
   "metadata": {},
   "source": [
    "Applying models with best parameters found trained with all training data to the test set"
   ]
  },
  {
   "cell_type": "code",
   "execution_count": 109,
   "metadata": {},
   "outputs": [
    {
     "name": "stdout",
     "output_type": "stream",
     "text": [
      "Confusion matrix:\n",
      "[[2444  537]\n",
      " [ 118  234]] \n",
      "\n",
      "Accuracy: 0.8034803480348035 \n",
      "\n",
      "Recall, Precision and F-Measure:\n",
      "              precision    recall  f1-score   support\n",
      "\n",
      "         0.0       0.95      0.82      0.88      2981\n",
      "         1.0       0.30      0.66      0.42       352\n",
      "\n",
      "    accuracy                           0.80      3333\n",
      "   macro avg       0.63      0.74      0.65      3333\n",
      "weighted avg       0.89      0.80      0.83      3333\n",
      "\n"
     ]
    }
   ],
   "source": [
    "parval=clf.best_params_\n",
    "knc = nb.KNeighborsClassifier(n_neighbors=parval['n_neighbors'],weights=parval['weights'])\n",
    "knc.fit(trainingInput, trainingOutput)\n",
    "pred=knc.predict(testingInput)\n",
    "print(\"Confusion matrix:\")\n",
    "print(sklearn.metrics.confusion_matrix(testingOutput, pred), \"\\n\")\n",
    "print(\"Accuracy:\", sklearn.metrics.accuracy_score(testingOutput, pred), \"\\n\")\n",
    "print (\"Recall, Precision and F-Measure:\")\n",
    "print(sklearn.metrics.classification_report(testingOutput, pred))"
   ]
  },
  {
   "cell_type": "code",
   "execution_count": 107,
   "metadata": {},
   "outputs": [
    {
     "name": "stdout",
     "output_type": "stream",
     "text": [
      "Can approximate by Normal Distribution?:  True\n",
      "Interval 95% confidence: 0.803 +/- 0.013\n"
     ]
    },
    {
     "data": {
      "text/plain": [
       "(0.789990065145418, 0.816970630924189)"
      ]
     },
     "execution_count": 107,
     "metadata": {},
     "output_type": "execute_result"
    }
   ],
   "source": [
    "# Interval confidence\n",
    "from statsmodels.stats.proportion import proportion_confint\n",
    "\n",
    "epsilon = sklearn.metrics.accuracy_score(testingOutput, pred)\n",
    "print(\"Can approximate by Normal Distribution?: \", testingInput.shape[0]*epsilon*(1-epsilon)>5)\n",
    "print(\"Interval 95% confidence:\", \"{0:.3f}\".format(epsilon), \"+/-\", \"{0:.3f}\".format(1.96*np.sqrt(epsilon*(1-epsilon)/testingInput.shape[0])))\n",
    "# or equivalent \n",
    "proportion_confint(count=epsilon*testingInput.shape[0], nobs=testingInput.shape[0], alpha=0.05, method='normal')"
   ]
  },
  {
   "cell_type": "code",
   "execution_count": 110,
   "metadata": {},
   "outputs": [
    {
     "name": "stdout",
     "output_type": "stream",
     "text": [
      "Best Params= {'n_neighbors': 16, 'weights': 'uniform'} Precision= 0.7668413298802644\n",
      "[[2517  464]\n",
      " [ 141  211]]\n",
      "0.8184818481848185\n",
      "              precision    recall  f1-score   support\n",
      "\n",
      "         0.0       0.95      0.84      0.89      2981\n",
      "         1.0       0.31      0.60      0.41       352\n",
      "\n",
      "    accuracy                           0.82      3333\n",
      "   macro avg       0.63      0.72      0.65      3333\n",
      "weighted avg       0.88      0.82      0.84      3333\n",
      "\n"
     ]
    }
   ],
   "source": [
    "# Precison of class 1 is low compared with class 0. \n",
    "# Precision of \"1\" is more important. Let's change optimize parameters by defining precision for 1.\n",
    "\n",
    "scorer = metrics.make_scorer(metrics.precision_score, average='macro', labels=[1])\n",
    "#scorer = make_scorer(score_func=precision_score, pos_label=9, greater_is_better=True,average='micro')\n",
    "\n",
    "\n",
    "params = {'n_neighbors':list(range(1,101,1)), 'weights':('distance','uniform')}\n",
    "knc = nb.KNeighborsClassifier()\n",
    "clf = GridSearchCV(knc, param_grid=params,cv=10,n_jobs=-1,scoring=scorer) \n",
    "clf.fit(trainingInput, trainingOutput)\n",
    "print(\"Best Params=\",clf.best_params_, \"Precision=\", clf.best_score_)\n",
    "\n",
    "parval=clf.best_params_\n",
    "knc = nb.KNeighborsClassifier(n_neighbors=parval['n_neighbors'],weights=parval['weights'])\n",
    "knc.fit(trainingInput, trainingOutput)\n",
    "pred=knc.predict(testingInput)\n",
    "print(sklearn.metrics.confusion_matrix(testingOutput, pred))\n",
    "print(sklearn.metrics.accuracy_score(testingOutput, pred))\n",
    "print(metrics.classification_report(testingOutput, pred))\n"
   ]
  },
  {
   "cell_type": "code",
   "execution_count": null,
   "metadata": {},
   "outputs": [],
   "source": []
  }
 ],
 "metadata": {
  "anaconda-cloud": {},
  "kernelspec": {
   "display_name": "base",
   "language": "python",
   "name": "python3"
  },
  "language_info": {
   "codemirror_mode": {
    "name": "ipython",
    "version": 3
   },
   "file_extension": ".py",
   "mimetype": "text/x-python",
   "name": "python",
   "nbconvert_exporter": "python",
   "pygments_lexer": "ipython3",
   "version": "3.9.13"
  },
  "vscode": {
   "interpreter": {
    "hash": "d12e26f72a40d5c48233c54861fca038d6a92135fc0e5e920944e69c69b6b29d"
   }
  }
 },
 "nbformat": 4,
 "nbformat_minor": 1
}
